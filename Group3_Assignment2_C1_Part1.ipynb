{
 "cells": [
  {
   "cell_type": "markdown",
   "metadata": {},
   "source": [
    "<table border=\"0\" style=\"width:100%\">\n",
    " <tr>\n",
    "    <td>\n",
    "        <img src=\"https://static-frm.ie.edu/university/wp-content/uploads/sites/6/2022/06/IE-University-logo.png\" width=150>\n",
    "     </td>\n",
    "    <td><div style=\"font-family:'Courier New'\">\n",
    "            <div style=\"font-size:25px\">\n",
    "                <div style=\"text-align: right\"> \n",
    "                    <b> MASTER IN BIG DATA</b>\n",
    "                    <br>\n",
    "                    Python for Data Analysis I\n",
    "                    <br><br>\n",
    "                    <em> Daniel Sierra Ramos </em>\n",
    "                </div>\n",
    "            </div>\n",
    "        </div>\n",
    "    </td>\n",
    " </tr>\n",
    "</table>"
   ]
  },
  {
   "cell_type": "markdown",
   "metadata": {},
   "source": [
    "# Part 1: Data Transformation with Pandas\n"
   ]
  },
  {
   "cell_type": "markdown",
   "metadata": {},
   "source": [
    "**Compute some transformations over the `customers.csv` dataset. Then, upload the resulting DataFrame and the Notebook in the proper format.**\n",
    "\n",
    "**Submission format (CSV):**\n",
    "- Filename: `GroupX_Assignment2_C1_Part1.csv`\n",
    "- Extension: CSV, separated by commas.\n",
    "- Comment: The DataFrame must be stored without the index.\n",
    "\n",
    "**Submission format (Notebook):**\n",
    "- Filename: `GroupX_Assignment2_C1_Part1.ipynb`\n",
    "- Extension: IPYNB\n",
    "\n",
    "**Grading criteria**\n",
    "- 100% - The submitted CSV file is identical to the solution CSV\n",
    "- 50% - Just two of the transformed columns are identical to those in the solution CSV\n",
    "- 25% - Just one of the transformed columns are identical to that in the solution CSV\n",
    "- 0% - None of the transformed columns match the solution CSV\n",
    "**NOTE: All submissions made in other formats than the presented here will score 0**"
   ]
  },
  {
   "cell_type": "code",
   "execution_count": 48,
   "metadata": {},
   "outputs": [],
   "source": [
    "import pandas as pd\n",
    "file_path = \"data/customers.csv\"\n",
    "data = pd.read_csv(file_path)"
   ]
  },
  {
   "cell_type": "markdown",
   "metadata": {},
   "source": [
    "## Question 1\n",
    "Complete the following transformations over the `customers.csv` dataset.\n",
    "1. Impute missing values in Income with the mean value but given Education and Marital_Status.\n"
   ]
  },
  {
   "cell_type": "code",
   "execution_count": 49,
   "metadata": {},
   "outputs": [],
   "source": [
    "columns = [\"Income\"]\n",
    "df_mean_values = data.groupby([\"Education\", \"Marital_Status\"])[columns].mean()\n",
    "new_df = data.set_index([\"Education\", \"Marital_Status\"])\n",
    "result = new_df.combine_first(df_mean_values)\n",
    "data = result.reset_index()\n"
   ]
  },
  {
   "cell_type": "markdown",
   "metadata": {},
   "source": [
    "2. Create a new column named DaysSinceEnrollment calculated from Dt_Customer. This new column should contain the number of days since enrollment and must be of type int(int64 or int32). Take 2017-01-01 as a reference for the calculation. Hint: Use datetime and timedelta data types"
   ]
  },
  {
   "cell_type": "code",
   "execution_count": 8,
   "metadata": {},
   "outputs": [],
   "source": [
    "reference_date = pd.to_datetime('2017-01-01', format=\"%Y-%m-%d\")\n",
    "data['DaysSinceEnrollment'] = (reference_date - pd.to_datetime(data['Dt_Customer'], format=\"%Y-%m-%d\")).dt.days.astype('int32')"
   ]
  },
  {
   "cell_type": "markdown",
   "metadata": {},
   "source": [
    "3. Create a new column called Generation with the following logic.\n",
    "    1. If was born after 1981 (included) - Millenial\n",
    "    1. If was born between 1965 (included) and 1981 - GenX\n",
    "    1. If was born between 1946 (included) and 1965 - BabyBoomer\n",
    "    1. If was born between 1928 (included) and 1946 - Silent\n",
    "    1. If was born before 1928 - remove the row\n",
    "    1. Sort the resulting DataFrame by ID, in descending order."
   ]
  },
  {
   "cell_type": "code",
   "execution_count": 9,
   "metadata": {},
   "outputs": [],
   "source": [
    "def get_generation(year):\n",
    "    if year >= 1928 and year < 1946:\n",
    "        return 'Silent'\n",
    "    elif year >= 1946 and year < 1965:\n",
    "        return 'BabyBoomer'\n",
    "    elif year >= 1965 and year < 1981:\n",
    "        return 'Gen X'\n",
    "    elif year >= 1981:\n",
    "        return 'Millenial'\n",
    "\n",
    "data['Generation'] = data['Year_Birth'].apply(get_generation)\n",
    "data.dropna(subset=['Generation'], inplace=True)\n",
    "data.sort_values('ID', ascending=False, inplace=True)"
   ]
  },
  {
   "cell_type": "markdown",
   "metadata": {},
   "source": [
    "4. Save the DataFrame and the Notebook and upload them in the proper format"
   ]
  },
  {
   "cell_type": "code",
   "execution_count": 10,
   "metadata": {},
   "outputs": [],
   "source": [
    "data.to_csv(\"data/Group3_Assignment2_C1_Part1.csv\", index=False)"
   ]
  }
 ],
 "metadata": {
  "kernelspec": {
   "display_name": "Python 3",
   "language": "python",
   "name": "python3"
  },
  "language_info": {
   "codemirror_mode": {
    "name": "ipython",
    "version": 3
   },
   "file_extension": ".py",
   "mimetype": "text/x-python",
   "name": "python",
   "nbconvert_exporter": "python",
   "pygments_lexer": "ipython3",
   "version": "3.11.4"
  }
 },
 "nbformat": 4,
 "nbformat_minor": 2
}
