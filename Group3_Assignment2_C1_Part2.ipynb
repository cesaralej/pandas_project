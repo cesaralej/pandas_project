{
 "cells": [
  {
   "cell_type": "markdown",
   "metadata": {},
   "source": [
    "<table border=\"0\" style=\"width:100%\">\n",
    " <tr>\n",
    "    <td>\n",
    "        <img src=\"https://static-frm.ie.edu/university/wp-content/uploads/sites/6/2022/06/IE-University-logo.png\" width=150>\n",
    "     </td>\n",
    "    <td><div style=\"font-family:'Courier New'\">\n",
    "            <div style=\"font-size:25px\">\n",
    "                <div style=\"text-align: right\"> \n",
    "                    <b> MASTER IN BIG DATA</b>\n",
    "                    <br>\n",
    "                    Python for Data Analysis I\n",
    "                    <br><br>\n",
    "                    <em> Daniel Sierra Ramos </em>\n",
    "                </div>\n",
    "            </div>\n",
    "        </div>\n",
    "    </td>\n",
    " </tr>\n",
    "</table>"
   ]
  },
  {
   "cell_type": "markdown",
   "metadata": {},
   "source": [
    "# Part 2: Basic Exploratory Data Analysis\n"
   ]
  },
  {
   "cell_type": "markdown",
   "metadata": {},
   "source": [
    "**Perform a basic exploratory data analysis of the resulting DataFrame from Part I and answer some questions. (NOTE: If you couldn't complete Part I you can use the file `customers_no_partI.csv` provided here for this part)**\n",
    "\n",
    "To complete this part, paste the answers where appropriate, and upload the full notebook at the end. Do not paste the code in the boxes, just the solution. Code must be in the Jupyter Notebook file.\n",
    "\n",
    "**Submission format:** One Jupyter notebook (`GroupX_Assignment2_C1_Part2.ipynb`).\n",
    "\n",
    "**Grading criteria** are, in decreasing order of importance and increasing object of subjectivity, as follows:\n",
    "\n",
    "- Code has no errors, the whole notebook runs from top to bottom without modifications (25 %)\n",
    "- Code gives correct answers (25 %)\n",
    "- Code produces results with expected types as described in the assignment (15 %)\n",
    "- Code avoids repetition and favors **pandas methods** where appropriate, or loops and conditionals if strictly necessary (15 %)\n",
    "- Code uses meaningful, explanatory variable names (10 %)\n",
    "- Code is as succinct as possible (when there are two ways of doing something, the simplest, shortest, or easier to understand is chosen) (10 %)\n",
    "    - Counter-point: if you discuss several ways of doing something, with its pros and cons (without just dumping the code and no explanations), that counts positively as well\n",
    "\n",
    "Optionally, you can include code comments describing the intent (i.e. code comments should answer \"why is this code here?\", not \"what is this code doing?\") and supplementary markdown cells if appropriate.\n",
    "\n",
    "All the questions can be done independently from each other (naturally after reading the data). They are not sorted in any particular order of difficulty.\n",
    "\n",
    "**NOTE: All submissions made without an attached notebook or in the incorrect format will be graded as 0**"
   ]
  },
  {
   "cell_type": "code",
   "execution_count": 2,
   "metadata": {},
   "outputs": [],
   "source": [
    "import pandas as pd\n",
    "file_path = \"data/Group3_Assignment2_C1_Part1.csv\"\n",
    "data = pd.read_csv(file_path)"
   ]
  },
  {
   "cell_type": "markdown",
   "metadata": {},
   "source": [
    "## Question 2\n",
    "\n",
    "Create a new column named `MntProteinProducts` with the total amount spent on meat and fish.\n",
    "\n",
    "*What is the amount spent on proteins for the `ID=4141`?*"
   ]
  },
  {
   "cell_type": "code",
   "execution_count": 3,
   "metadata": {},
   "outputs": [],
   "source": [
    "data[\"MntProteinProducts\"] = data.MntMeatProducts + data.MntFishProducts"
   ]
  },
  {
   "cell_type": "code",
   "execution_count": 4,
   "metadata": {},
   "outputs": [
    {
     "name": "stdout",
     "output_type": "stream",
     "text": [
      "The amount spent on protein products by customer 4141 is 238\n"
     ]
    }
   ],
   "source": [
    "test_id = 4141\n",
    "print(f\"The amount spent on protein products by customer {test_id} is {data.loc[data['ID']==4141]['MntProteinProducts'].values[0]}\")"
   ]
  },
  {
   "cell_type": "markdown",
   "metadata": {},
   "source": [
    "## Question 3\n",
    "\n",
    "Calculate the **total amount** spent on protein given the marital status, but just for the \"BabyBoomers\".\n",
    "\n",
    "*What is the total amount spent on protein for married baby boomers?*"
   ]
  },
  {
   "cell_type": "code",
   "execution_count": 5,
   "metadata": {},
   "outputs": [
    {
     "data": {
      "text/html": [
       "<div>\n",
       "<style scoped>\n",
       "    .dataframe tbody tr th:only-of-type {\n",
       "        vertical-align: middle;\n",
       "    }\n",
       "\n",
       "    .dataframe tbody tr th {\n",
       "        vertical-align: top;\n",
       "    }\n",
       "\n",
       "    .dataframe thead th {\n",
       "        text-align: right;\n",
       "    }\n",
       "</style>\n",
       "<table border=\"1\" class=\"dataframe\">\n",
       "  <thead>\n",
       "    <tr style=\"text-align: right;\">\n",
       "      <th></th>\n",
       "      <th>MntProteinProducts</th>\n",
       "    </tr>\n",
       "    <tr>\n",
       "      <th>Marital_Status</th>\n",
       "      <th></th>\n",
       "    </tr>\n",
       "  </thead>\n",
       "  <tbody>\n",
       "    <tr>\n",
       "      <th>Absurd</th>\n",
       "      <td>699</td>\n",
       "    </tr>\n",
       "    <tr>\n",
       "      <th>Alone</th>\n",
       "      <td>47</td>\n",
       "    </tr>\n",
       "    <tr>\n",
       "      <th>Divorced</th>\n",
       "      <td>17863</td>\n",
       "    </tr>\n",
       "    <tr>\n",
       "      <th>Married</th>\n",
       "      <td>58657</td>\n",
       "    </tr>\n",
       "    <tr>\n",
       "      <th>Single</th>\n",
       "      <td>32694</td>\n",
       "    </tr>\n",
       "    <tr>\n",
       "      <th>Together</th>\n",
       "      <td>45027</td>\n",
       "    </tr>\n",
       "    <tr>\n",
       "      <th>Widow</th>\n",
       "      <td>13518</td>\n",
       "    </tr>\n",
       "  </tbody>\n",
       "</table>\n",
       "</div>"
      ],
      "text/plain": [
       "                MntProteinProducts\n",
       "Marital_Status                    \n",
       "Absurd                         699\n",
       "Alone                           47\n",
       "Divorced                     17863\n",
       "Married                      58657\n",
       "Single                       32694\n",
       "Together                     45027\n",
       "Widow                        13518"
      ]
     },
     "execution_count": 5,
     "metadata": {},
     "output_type": "execute_result"
    }
   ],
   "source": [
    "boomers_filtered_df = data[data[\"Generation\"] == \"BabyBoomer\"]\n",
    "boomers_filtered_df.groupby('Marital_Status')[['MntProteinProducts']].sum()"
   ]
  },
  {
   "cell_type": "code",
   "execution_count": 6,
   "metadata": {},
   "outputs": [
    {
     "name": "stdout",
     "output_type": "stream",
     "text": [
      "The amount spent on protein products by married baby boomers is 58657\n"
     ]
    }
   ],
   "source": [
    "print(f\"The amount spent on protein products by married baby boomers is {boomers_filtered_df[boomers_filtered_df['Marital_Status']=='Married']['MntProteinProducts'].sum()}\")"
   ]
  },
  {
   "cell_type": "markdown",
   "metadata": {},
   "source": [
    "## Question 4\n",
    "\n",
    "Calculate the **average amount** spent on sweets, given the generation and the number of kids.\n",
    "\n",
    "*What is the average amount spent on sweets for the Millenials with 2 kids?*\n"
   ]
  },
  {
   "cell_type": "code",
   "execution_count": 7,
   "metadata": {},
   "outputs": [
    {
     "data": {
      "text/html": [
       "<div>\n",
       "<style scoped>\n",
       "    .dataframe tbody tr th:only-of-type {\n",
       "        vertical-align: middle;\n",
       "    }\n",
       "\n",
       "    .dataframe tbody tr th {\n",
       "        vertical-align: top;\n",
       "    }\n",
       "\n",
       "    .dataframe thead th {\n",
       "        text-align: right;\n",
       "    }\n",
       "</style>\n",
       "<table border=\"1\" class=\"dataframe\">\n",
       "  <thead>\n",
       "    <tr style=\"text-align: right;\">\n",
       "      <th></th>\n",
       "      <th></th>\n",
       "      <th>MntSweetProducts</th>\n",
       "    </tr>\n",
       "    <tr>\n",
       "      <th>Generation</th>\n",
       "      <th>Kidhome</th>\n",
       "      <th></th>\n",
       "    </tr>\n",
       "  </thead>\n",
       "  <tbody>\n",
       "    <tr>\n",
       "      <th rowspan=\"3\" valign=\"top\">BabyBoomer</th>\n",
       "      <th>0</th>\n",
       "      <td>35.647059</td>\n",
       "    </tr>\n",
       "    <tr>\n",
       "      <th>1</th>\n",
       "      <td>5.590361</td>\n",
       "    </tr>\n",
       "    <tr>\n",
       "      <th>2</th>\n",
       "      <td>4.733333</td>\n",
       "    </tr>\n",
       "    <tr>\n",
       "      <th rowspan=\"3\" valign=\"top\">Gen X</th>\n",
       "      <th>0</th>\n",
       "      <td>42.909980</td>\n",
       "    </tr>\n",
       "    <tr>\n",
       "      <th>1</th>\n",
       "      <td>9.168242</td>\n",
       "    </tr>\n",
       "    <tr>\n",
       "      <th>2</th>\n",
       "      <td>4.068966</td>\n",
       "    </tr>\n",
       "    <tr>\n",
       "      <th rowspan=\"3\" valign=\"top\">Millenial</th>\n",
       "      <th>0</th>\n",
       "      <td>48.691011</td>\n",
       "    </tr>\n",
       "    <tr>\n",
       "      <th>1</th>\n",
       "      <td>11.073892</td>\n",
       "    </tr>\n",
       "    <tr>\n",
       "      <th>2</th>\n",
       "      <td>9.250000</td>\n",
       "    </tr>\n",
       "    <tr>\n",
       "      <th>Silent</th>\n",
       "      <th>0</th>\n",
       "      <td>45.958333</td>\n",
       "    </tr>\n",
       "  </tbody>\n",
       "</table>\n",
       "</div>"
      ],
      "text/plain": [
       "                    MntSweetProducts\n",
       "Generation Kidhome                  \n",
       "BabyBoomer 0               35.647059\n",
       "           1                5.590361\n",
       "           2                4.733333\n",
       "Gen X      0               42.909980\n",
       "           1                9.168242\n",
       "           2                4.068966\n",
       "Millenial  0               48.691011\n",
       "           1               11.073892\n",
       "           2                9.250000\n",
       "Silent     0               45.958333"
      ]
     },
     "execution_count": 7,
     "metadata": {},
     "output_type": "execute_result"
    }
   ],
   "source": [
    "data.groupby([\"Generation\",\"Kidhome\"])[[\"MntSweetProducts\"]].mean()"
   ]
  },
  {
   "cell_type": "code",
   "execution_count": 8,
   "metadata": {},
   "outputs": [
    {
     "name": "stdout",
     "output_type": "stream",
     "text": [
      "The amount spent on sweet products by Millenial customers with 2 kids at home is 9.25\n"
     ]
    }
   ],
   "source": [
    "print(f\"The amount spent on sweet products by Millenial customers with 2 kids at home is {data[(data['Generation']=='Millenial') & (data['Kidhome']==2)]['MntSweetProducts'].mean()}\")"
   ]
  },
  {
   "cell_type": "markdown",
   "metadata": {},
   "source": [
    "## Question 5\n",
    "\n",
    "Calculate the average amount spent on gold, wine, and deals given the income (divided into 10K tranches).\n",
    "\n",
    "*What is the average amount spent on wine for those with an income between 90-100K?*"
   ]
  },
  {
   "cell_type": "code",
   "execution_count": 9,
   "metadata": {},
   "outputs": [
    {
     "name": "stderr",
     "output_type": "stream",
     "text": [
      "/var/folders/2b/0rq4mprx3cb7w7bffk181n3m0000gn/T/ipykernel_90426/3408169784.py:6: FutureWarning: The default of observed=False is deprecated and will be changed to True in a future version of pandas. Pass observed=False to retain current behavior or observed=True to adopt the future default and silence this warning.\n",
      "  data.groupby('Tranche')[['MntGoldProds', 'MntWines', 'NumDealsPurchases']].mean()\n"
     ]
    },
    {
     "data": {
      "text/html": [
       "<div>\n",
       "<style scoped>\n",
       "    .dataframe tbody tr th:only-of-type {\n",
       "        vertical-align: middle;\n",
       "    }\n",
       "\n",
       "    .dataframe tbody tr th {\n",
       "        vertical-align: top;\n",
       "    }\n",
       "\n",
       "    .dataframe thead th {\n",
       "        text-align: right;\n",
       "    }\n",
       "</style>\n",
       "<table border=\"1\" class=\"dataframe\">\n",
       "  <thead>\n",
       "    <tr style=\"text-align: right;\">\n",
       "      <th></th>\n",
       "      <th>MntGoldProds</th>\n",
       "      <th>MntWines</th>\n",
       "      <th>NumDealsPurchases</th>\n",
       "    </tr>\n",
       "    <tr>\n",
       "      <th>Tranche</th>\n",
       "      <th></th>\n",
       "      <th></th>\n",
       "      <th></th>\n",
       "    </tr>\n",
       "  </thead>\n",
       "  <tbody>\n",
       "    <tr>\n",
       "      <th>0-10K</th>\n",
       "      <td>44.172414</td>\n",
       "      <td>16.413793</td>\n",
       "      <td>3.827586</td>\n",
       "    </tr>\n",
       "    <tr>\n",
       "      <th>10-20k</th>\n",
       "      <td>13.051020</td>\n",
       "      <td>7.591837</td>\n",
       "      <td>2.204082</td>\n",
       "    </tr>\n",
       "    <tr>\n",
       "      <th>20-30k</th>\n",
       "      <td>15.341564</td>\n",
       "      <td>15.962963</td>\n",
       "      <td>1.839506</td>\n",
       "    </tr>\n",
       "    <tr>\n",
       "      <th>30-40k</th>\n",
       "      <td>18.200557</td>\n",
       "      <td>46.281337</td>\n",
       "      <td>2.186630</td>\n",
       "    </tr>\n",
       "    <tr>\n",
       "      <th>40-50k</th>\n",
       "      <td>30.795732</td>\n",
       "      <td>152.396341</td>\n",
       "      <td>2.856707</td>\n",
       "    </tr>\n",
       "    <tr>\n",
       "      <th>...</th>\n",
       "      <td>...</td>\n",
       "      <td>...</td>\n",
       "      <td>...</td>\n",
       "    </tr>\n",
       "    <tr>\n",
       "      <th>620-630k</th>\n",
       "      <td>NaN</td>\n",
       "      <td>NaN</td>\n",
       "      <td>NaN</td>\n",
       "    </tr>\n",
       "    <tr>\n",
       "      <th>630-640k</th>\n",
       "      <td>NaN</td>\n",
       "      <td>NaN</td>\n",
       "      <td>NaN</td>\n",
       "    </tr>\n",
       "    <tr>\n",
       "      <th>640-650k</th>\n",
       "      <td>NaN</td>\n",
       "      <td>NaN</td>\n",
       "      <td>NaN</td>\n",
       "    </tr>\n",
       "    <tr>\n",
       "      <th>650-660k</th>\n",
       "      <td>NaN</td>\n",
       "      <td>NaN</td>\n",
       "      <td>NaN</td>\n",
       "    </tr>\n",
       "    <tr>\n",
       "      <th>660-670k</th>\n",
       "      <td>12.000000</td>\n",
       "      <td>9.000000</td>\n",
       "      <td>4.000000</td>\n",
       "    </tr>\n",
       "  </tbody>\n",
       "</table>\n",
       "<p>67 rows × 3 columns</p>\n",
       "</div>"
      ],
      "text/plain": [
       "          MntGoldProds    MntWines  NumDealsPurchases\n",
       "Tranche                                              \n",
       "0-10K        44.172414   16.413793           3.827586\n",
       "10-20k       13.051020    7.591837           2.204082\n",
       "20-30k       15.341564   15.962963           1.839506\n",
       "30-40k       18.200557   46.281337           2.186630\n",
       "40-50k       30.795732  152.396341           2.856707\n",
       "...                ...         ...                ...\n",
       "620-630k           NaN         NaN                NaN\n",
       "630-640k           NaN         NaN                NaN\n",
       "640-650k           NaN         NaN                NaN\n",
       "650-660k           NaN         NaN                NaN\n",
       "660-670k     12.000000    9.000000           4.000000\n",
       "\n",
       "[67 rows x 3 columns]"
      ]
     },
     "execution_count": 9,
     "metadata": {},
     "output_type": "execute_result"
    }
   ],
   "source": [
    "#Here we use the Pandas cut function, but in the result it will show all possible bins for Tranches, including the ones that have no values.\n",
    "bins = range(0, int(data['Income'].max()) + 10000, 10000)\n",
    "labels = ['0-10K'] + [f\"{int(i/1000)}-{int(i/1000) + 10}k\" for i in bins[1:-1]]\n",
    "data['Tranche'] = pd.cut(data['Income'], bins=bins, labels=labels, right=False)\n",
    "\n",
    "data.groupby('Tranche')[['MntGoldProds', 'MntWines', 'NumDealsPurchases']].mean()"
   ]
  },
  {
   "cell_type": "code",
   "execution_count": 10,
   "metadata": {},
   "outputs": [
    {
     "data": {
      "text/html": [
       "<div>\n",
       "<style scoped>\n",
       "    .dataframe tbody tr th:only-of-type {\n",
       "        vertical-align: middle;\n",
       "    }\n",
       "\n",
       "    .dataframe tbody tr th {\n",
       "        vertical-align: top;\n",
       "    }\n",
       "\n",
       "    .dataframe thead th {\n",
       "        text-align: right;\n",
       "    }\n",
       "</style>\n",
       "<table border=\"1\" class=\"dataframe\">\n",
       "  <thead>\n",
       "    <tr style=\"text-align: right;\">\n",
       "      <th></th>\n",
       "      <th>MntGoldProds</th>\n",
       "      <th>MntWines</th>\n",
       "      <th>NumDealsPurchases</th>\n",
       "    </tr>\n",
       "    <tr>\n",
       "      <th>Tranche.v2</th>\n",
       "      <th></th>\n",
       "      <th></th>\n",
       "      <th></th>\n",
       "    </tr>\n",
       "  </thead>\n",
       "  <tbody>\n",
       "    <tr>\n",
       "      <th>0-10k</th>\n",
       "      <td>44.172414</td>\n",
       "      <td>16.413793</td>\n",
       "      <td>3.827586</td>\n",
       "    </tr>\n",
       "    <tr>\n",
       "      <th>10-20k</th>\n",
       "      <td>13.051020</td>\n",
       "      <td>7.591837</td>\n",
       "      <td>2.204082</td>\n",
       "    </tr>\n",
       "    <tr>\n",
       "      <th>100-110k</th>\n",
       "      <td>145.250000</td>\n",
       "      <td>665.500000</td>\n",
       "      <td>0.250000</td>\n",
       "    </tr>\n",
       "    <tr>\n",
       "      <th>110-120k</th>\n",
       "      <td>3.000000</td>\n",
       "      <td>6.000000</td>\n",
       "      <td>0.000000</td>\n",
       "    </tr>\n",
       "    <tr>\n",
       "      <th>150-160k</th>\n",
       "      <td>2.400000</td>\n",
       "      <td>12.600000</td>\n",
       "      <td>3.000000</td>\n",
       "    </tr>\n",
       "    <tr>\n",
       "      <th>160-170k</th>\n",
       "      <td>3.000000</td>\n",
       "      <td>70.000000</td>\n",
       "      <td>7.500000</td>\n",
       "    </tr>\n",
       "    <tr>\n",
       "      <th>20-30k</th>\n",
       "      <td>15.341564</td>\n",
       "      <td>15.962963</td>\n",
       "      <td>1.839506</td>\n",
       "    </tr>\n",
       "    <tr>\n",
       "      <th>30-40k</th>\n",
       "      <td>18.200557</td>\n",
       "      <td>46.281337</td>\n",
       "      <td>2.186630</td>\n",
       "    </tr>\n",
       "    <tr>\n",
       "      <th>40-50k</th>\n",
       "      <td>30.795732</td>\n",
       "      <td>152.396341</td>\n",
       "      <td>2.856707</td>\n",
       "    </tr>\n",
       "    <tr>\n",
       "      <th>50-60k</th>\n",
       "      <td>49.393586</td>\n",
       "      <td>323.807580</td>\n",
       "      <td>3.311953</td>\n",
       "    </tr>\n",
       "    <tr>\n",
       "      <th>60-70k</th>\n",
       "      <td>65.349398</td>\n",
       "      <td>525.710843</td>\n",
       "      <td>2.605422</td>\n",
       "    </tr>\n",
       "    <tr>\n",
       "      <th>660-670k</th>\n",
       "      <td>12.000000</td>\n",
       "      <td>9.000000</td>\n",
       "      <td>4.000000</td>\n",
       "    </tr>\n",
       "    <tr>\n",
       "      <th>70-80k</th>\n",
       "      <td>76.179310</td>\n",
       "      <td>604.217241</td>\n",
       "      <td>1.613793</td>\n",
       "    </tr>\n",
       "    <tr>\n",
       "      <th>80-90k</th>\n",
       "      <td>71.322981</td>\n",
       "      <td>681.391304</td>\n",
       "      <td>1.111801</td>\n",
       "    </tr>\n",
       "    <tr>\n",
       "      <th>90-100k</th>\n",
       "      <td>63.609756</td>\n",
       "      <td>851.926829</td>\n",
       "      <td>0.634146</td>\n",
       "    </tr>\n",
       "  </tbody>\n",
       "</table>\n",
       "</div>"
      ],
      "text/plain": [
       "            MntGoldProds    MntWines  NumDealsPurchases\n",
       "Tranche.v2                                             \n",
       "0-10k          44.172414   16.413793           3.827586\n",
       "10-20k         13.051020    7.591837           2.204082\n",
       "100-110k      145.250000  665.500000           0.250000\n",
       "110-120k        3.000000    6.000000           0.000000\n",
       "150-160k        2.400000   12.600000           3.000000\n",
       "160-170k        3.000000   70.000000           7.500000\n",
       "20-30k         15.341564   15.962963           1.839506\n",
       "30-40k         18.200557   46.281337           2.186630\n",
       "40-50k         30.795732  152.396341           2.856707\n",
       "50-60k         49.393586  323.807580           3.311953\n",
       "60-70k         65.349398  525.710843           2.605422\n",
       "660-670k       12.000000    9.000000           4.000000\n",
       "70-80k         76.179310  604.217241           1.613793\n",
       "80-90k         71.322981  681.391304           1.111801\n",
       "90-100k        63.609756  851.926829           0.634146"
      ]
     },
     "execution_count": 10,
     "metadata": {},
     "output_type": "execute_result"
    }
   ],
   "source": [
    "# Here we used a custom function to get the tranche. It is not Pandas but it only shows the tranches that have values.\n",
    "\n",
    "def get_tranche(income):\n",
    "    tranche = int(income // 10000) * 10\n",
    "    return f\"{tranche}-{tranche + 10}k\"\n",
    "\n",
    "data['Tranche.v2'] = data['Income'].apply(get_tranche)\n",
    "\n",
    "data.groupby('Tranche.v2')[['MntGoldProds', 'MntWines', 'NumDealsPurchases']].mean()"
   ]
  },
  {
   "cell_type": "code",
   "execution_count": 13,
   "metadata": {},
   "outputs": [
    {
     "name": "stdout",
     "output_type": "stream",
     "text": [
      "The average amount spent on wine by customers with an income between 90k and 100k is 851.9268292682926\n"
     ]
    }
   ],
   "source": [
    "print(f\"The average amount spent on wine by customers with an income between 90k and 100k is {data[data['Tranche']=='90-100k']['MntWines'].mean()}\")"
   ]
  }
 ],
 "metadata": {
  "kernelspec": {
   "display_name": "base",
   "language": "python",
   "name": "python3"
  },
  "language_info": {
   "codemirror_mode": {
    "name": "ipython",
    "version": 3
   },
   "file_extension": ".py",
   "mimetype": "text/x-python",
   "name": "python",
   "nbconvert_exporter": "python",
   "pygments_lexer": "ipython3",
   "version": "3.10.0"
  }
 },
 "nbformat": 4,
 "nbformat_minor": 2
}
