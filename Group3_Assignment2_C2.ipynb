{
 "cells": [
  {
   "cell_type": "markdown",
   "metadata": {},
   "source": [
    "<table border=\"0\" style=\"width:100%\">\n",
    " <tr>\n",
    "    <td>\n",
    "        <img src=\"https://static-frm.ie.edu/university/wp-content/uploads/sites/6/2022/06/IE-University-logo.png\" width=150>\n",
    "     </td>\n",
    "    <td><div style=\"font-family:'Courier New'\">\n",
    "            <div style=\"font-size:25px\">\n",
    "                <div style=\"text-align: right\"> \n",
    "                    <b> MASTER IN BIG DATA</b>\n",
    "                    <br>\n",
    "                    Python for Data Analysis I\n",
    "                    <br><br>\n",
    "                    <em> Daniel Sierra Ramos </em>\n",
    "                </div>\n",
    "            </div>\n",
    "        </div>\n",
    "    </td>\n",
    " </tr>\n",
    "</table>"
   ]
  },
  {
   "cell_type": "markdown",
   "metadata": {},
   "source": [
    "# CHAPTER II: Insights\n",
    "\n",
    "In this chapter, we will work with the *Churn* dataset. This data contains information about the customers of a telecommunications company. It contains typical info a company have about its customers and also a binary column called \"churn\" that stores information about if the customer churned or not. _In order to prevent churn, the CIO of this company is very interested in knowing how the information they have about their customers is related to the churn action_.\n",
    "\n",
    "Open-ended question. Maximum points for the usage of Pandas, conversion to JSON also allowed, exploration of several methods encouraged. More complex and innovative approaches get a higher grade.\n",
    "\n",
    "You can enrich your analysis with Pandas methods and techniques not seen in class, but libraries other than Pandas are not allowed for data manipulation.\n",
    "\n",
    "All the insights should be supported with graphs built with any of the plotting libraries seen in class or others. Feel free to innovate in this part in order to clearly show the value of your insights.\n",
    "\n",
    "**Submission format:** One Jupyter notebook (`GroupX_Assignment2_C2.ipynb`).\n",
    "\n",
    "**Grading criteria** are:\n",
    "\n",
    "- Code contains the 5 insights (40 %)\n",
    "- Code has no errors, uses meaningful and explanatory variable names, and is clean and concise (10 %).\n",
    "- Quality of the insights. Notebook cleanliness. No commented code that is not working. Markdown annotations are encouraged. The result should be apt for the CIO's technical team. (50 %)\n",
    "\n",
    "## Question 6\n",
    "\n",
    "**Present at least 5 insights** about the dataset. You can relate 2, 3, or whatever number of variables to describe something exciting about data. The more complex and interesting the insight, the more grades.\n",
    "\n",
    "Paste a summary below (one sentence per insight), and include the entire code, explanations, and discussion in the original notebook."
   ]
  },
  {
   "cell_type": "markdown",
   "metadata": {},
   "source": [
    "## Table of Content"
   ]
  },
  {
   "cell_type": "markdown",
   "metadata": {},
   "source": [
    "1. [Imports](#imports)\n",
    "    1. Libraries\n",
    "    1. Load the Dataset\n",
    "1. [Data Overview](#data-overview)\n",
    "1. [Data Preprocessing (Cleaning)](#data-cleaning)\n",
    "    1. Missing Values\n",
    "    1. Data Types\n",
    "1. Exploratory Data Analysis"
   ]
  },
  {
   "cell_type": "markdown",
   "metadata": {},
   "source": [
    "## 1. Imports"
   ]
  },
  {
   "cell_type": "markdown",
   "metadata": {},
   "source": [
    "### 1.1 Libraries"
   ]
  },
  {
   "cell_type": "code",
   "execution_count": 163,
   "metadata": {},
   "outputs": [],
   "source": [
    "import pandas as pd\n",
    "import numpy as np\n",
    "import matplotlib.pyplot as plt\n",
    "import seaborn as sns\n",
    "from ydata_profiling import ProfileReport"
   ]
  },
  {
   "cell_type": "markdown",
   "metadata": {},
   "source": [
    "### 1.2 Loading the Dataset"
   ]
  },
  {
   "cell_type": "code",
   "execution_count": 201,
   "metadata": {},
   "outputs": [],
   "source": [
    "filepath = \"data/churn.csv\"\n",
    "df = pd.read_csv(filepath)"
   ]
  },
  {
   "cell_type": "markdown",
   "metadata": {},
   "source": [
    "## 2. Data Overview <a name=\"data-overview\"></a>"
   ]
  },
  {
   "cell_type": "markdown",
   "metadata": {},
   "source": [
    "In this section, we provide an overview of the dataset by displaying the first few rows, examining the data types, and exploring each column along with a sample of their unique values. This exploration aims to give us a sense of the available information and helps us plan the necessary steps for analysis.\n",
    "\n",
    "In this project our aim is to know information about customer churn action, so as a last step we take a look at the class distribution of the predictor variable `Churn` in the database. There is no significant class inbalance."
   ]
  },
  {
   "cell_type": "markdown",
   "metadata": {},
   "source": [
    "### 2.1 Head"
   ]
  },
  {
   "cell_type": "code",
   "execution_count": 166,
   "metadata": {},
   "outputs": [
    {
     "data": {
      "text/html": [
       "<div>\n",
       "<style scoped>\n",
       "    .dataframe tbody tr th:only-of-type {\n",
       "        vertical-align: middle;\n",
       "    }\n",
       "\n",
       "    .dataframe tbody tr th {\n",
       "        vertical-align: top;\n",
       "    }\n",
       "\n",
       "    .dataframe thead th {\n",
       "        text-align: right;\n",
       "    }\n",
       "</style>\n",
       "<table border=\"1\" class=\"dataframe\">\n",
       "  <thead>\n",
       "    <tr style=\"text-align: right;\">\n",
       "      <th></th>\n",
       "      <th>customerID</th>\n",
       "      <th>gender</th>\n",
       "      <th>SeniorCitizen</th>\n",
       "      <th>Partner</th>\n",
       "      <th>Dependents</th>\n",
       "      <th>tenure</th>\n",
       "      <th>PhoneService</th>\n",
       "      <th>MultipleLines</th>\n",
       "      <th>InternetService</th>\n",
       "      <th>OnlineSecurity</th>\n",
       "      <th>...</th>\n",
       "      <th>DeviceProtection</th>\n",
       "      <th>TechSupport</th>\n",
       "      <th>StreamingTV</th>\n",
       "      <th>StreamingMovies</th>\n",
       "      <th>Contract</th>\n",
       "      <th>PaperlessBilling</th>\n",
       "      <th>PaymentMethod</th>\n",
       "      <th>MonthlyCharges</th>\n",
       "      <th>TotalCharges</th>\n",
       "      <th>Churn</th>\n",
       "    </tr>\n",
       "  </thead>\n",
       "  <tbody>\n",
       "    <tr>\n",
       "      <th>0</th>\n",
       "      <td>7590-VHVEG</td>\n",
       "      <td>Female</td>\n",
       "      <td>0</td>\n",
       "      <td>Yes</td>\n",
       "      <td>No</td>\n",
       "      <td>1</td>\n",
       "      <td>No</td>\n",
       "      <td>No phone service</td>\n",
       "      <td>DSL</td>\n",
       "      <td>No</td>\n",
       "      <td>...</td>\n",
       "      <td>No</td>\n",
       "      <td>No</td>\n",
       "      <td>No</td>\n",
       "      <td>No</td>\n",
       "      <td>Month-to-month</td>\n",
       "      <td>Yes</td>\n",
       "      <td>Electronic check</td>\n",
       "      <td>29.85</td>\n",
       "      <td>29.85</td>\n",
       "      <td>No</td>\n",
       "    </tr>\n",
       "    <tr>\n",
       "      <th>1</th>\n",
       "      <td>5575-GNVDE</td>\n",
       "      <td>Male</td>\n",
       "      <td>0</td>\n",
       "      <td>No</td>\n",
       "      <td>No</td>\n",
       "      <td>34</td>\n",
       "      <td>Yes</td>\n",
       "      <td>No</td>\n",
       "      <td>DSL</td>\n",
       "      <td>Yes</td>\n",
       "      <td>...</td>\n",
       "      <td>Yes</td>\n",
       "      <td>No</td>\n",
       "      <td>No</td>\n",
       "      <td>No</td>\n",
       "      <td>One year</td>\n",
       "      <td>No</td>\n",
       "      <td>Mailed check</td>\n",
       "      <td>56.95</td>\n",
       "      <td>1889.5</td>\n",
       "      <td>No</td>\n",
       "    </tr>\n",
       "    <tr>\n",
       "      <th>2</th>\n",
       "      <td>3668-QPYBK</td>\n",
       "      <td>Male</td>\n",
       "      <td>0</td>\n",
       "      <td>No</td>\n",
       "      <td>No</td>\n",
       "      <td>2</td>\n",
       "      <td>Yes</td>\n",
       "      <td>No</td>\n",
       "      <td>DSL</td>\n",
       "      <td>Yes</td>\n",
       "      <td>...</td>\n",
       "      <td>No</td>\n",
       "      <td>No</td>\n",
       "      <td>No</td>\n",
       "      <td>No</td>\n",
       "      <td>Month-to-month</td>\n",
       "      <td>Yes</td>\n",
       "      <td>Mailed check</td>\n",
       "      <td>53.85</td>\n",
       "      <td>108.15</td>\n",
       "      <td>Yes</td>\n",
       "    </tr>\n",
       "    <tr>\n",
       "      <th>3</th>\n",
       "      <td>7795-CFOCW</td>\n",
       "      <td>Male</td>\n",
       "      <td>0</td>\n",
       "      <td>No</td>\n",
       "      <td>No</td>\n",
       "      <td>45</td>\n",
       "      <td>No</td>\n",
       "      <td>No phone service</td>\n",
       "      <td>DSL</td>\n",
       "      <td>Yes</td>\n",
       "      <td>...</td>\n",
       "      <td>Yes</td>\n",
       "      <td>Yes</td>\n",
       "      <td>No</td>\n",
       "      <td>No</td>\n",
       "      <td>One year</td>\n",
       "      <td>No</td>\n",
       "      <td>Bank transfer (automatic)</td>\n",
       "      <td>42.30</td>\n",
       "      <td>1840.75</td>\n",
       "      <td>No</td>\n",
       "    </tr>\n",
       "    <tr>\n",
       "      <th>4</th>\n",
       "      <td>9237-HQITU</td>\n",
       "      <td>Female</td>\n",
       "      <td>0</td>\n",
       "      <td>No</td>\n",
       "      <td>No</td>\n",
       "      <td>2</td>\n",
       "      <td>Yes</td>\n",
       "      <td>No</td>\n",
       "      <td>Fiber optic</td>\n",
       "      <td>No</td>\n",
       "      <td>...</td>\n",
       "      <td>No</td>\n",
       "      <td>No</td>\n",
       "      <td>No</td>\n",
       "      <td>No</td>\n",
       "      <td>Month-to-month</td>\n",
       "      <td>Yes</td>\n",
       "      <td>Electronic check</td>\n",
       "      <td>70.70</td>\n",
       "      <td>151.65</td>\n",
       "      <td>Yes</td>\n",
       "    </tr>\n",
       "  </tbody>\n",
       "</table>\n",
       "<p>5 rows × 21 columns</p>\n",
       "</div>"
      ],
      "text/plain": [
       "   customerID  gender  SeniorCitizen Partner Dependents  tenure PhoneService  \\\n",
       "0  7590-VHVEG  Female              0     Yes         No       1           No   \n",
       "1  5575-GNVDE    Male              0      No         No      34          Yes   \n",
       "2  3668-QPYBK    Male              0      No         No       2          Yes   \n",
       "3  7795-CFOCW    Male              0      No         No      45           No   \n",
       "4  9237-HQITU  Female              0      No         No       2          Yes   \n",
       "\n",
       "      MultipleLines InternetService OnlineSecurity  ... DeviceProtection  \\\n",
       "0  No phone service             DSL             No  ...               No   \n",
       "1                No             DSL            Yes  ...              Yes   \n",
       "2                No             DSL            Yes  ...               No   \n",
       "3  No phone service             DSL            Yes  ...              Yes   \n",
       "4                No     Fiber optic             No  ...               No   \n",
       "\n",
       "  TechSupport StreamingTV StreamingMovies        Contract PaperlessBilling  \\\n",
       "0          No          No              No  Month-to-month              Yes   \n",
       "1          No          No              No        One year               No   \n",
       "2          No          No              No  Month-to-month              Yes   \n",
       "3         Yes          No              No        One year               No   \n",
       "4          No          No              No  Month-to-month              Yes   \n",
       "\n",
       "               PaymentMethod MonthlyCharges  TotalCharges Churn  \n",
       "0           Electronic check          29.85         29.85    No  \n",
       "1               Mailed check          56.95        1889.5    No  \n",
       "2               Mailed check          53.85        108.15   Yes  \n",
       "3  Bank transfer (automatic)          42.30       1840.75    No  \n",
       "4           Electronic check          70.70        151.65   Yes  \n",
       "\n",
       "[5 rows x 21 columns]"
      ]
     },
     "execution_count": 166,
     "metadata": {},
     "output_type": "execute_result"
    }
   ],
   "source": [
    "df.head()"
   ]
  },
  {
   "cell_type": "markdown",
   "metadata": {},
   "source": [
    "### 2.2 Data Types and Missing Values"
   ]
  },
  {
   "cell_type": "code",
   "execution_count": null,
   "metadata": {},
   "outputs": [
    {
     "name": "stdout",
     "output_type": "stream",
     "text": [
      "<class 'pandas.core.frame.DataFrame'>\n",
      "RangeIndex: 7043 entries, 0 to 7042\n",
      "Data columns (total 21 columns):\n",
      " #   Column            Non-Null Count  Dtype  \n",
      "---  ------            --------------  -----  \n",
      " 0   customerID        7043 non-null   object \n",
      " 1   gender            7043 non-null   object \n",
      " 2   SeniorCitizen     7043 non-null   int64  \n",
      " 3   Partner           7043 non-null   object \n",
      " 4   Dependents        7043 non-null   object \n",
      " 5   tenure            7043 non-null   int64  \n",
      " 6   PhoneService      7043 non-null   object \n",
      " 7   MultipleLines     7043 non-null   object \n",
      " 8   InternetService   7043 non-null   object \n",
      " 9   OnlineSecurity    7043 non-null   object \n",
      " 10  OnlineBackup      7043 non-null   object \n",
      " 11  DeviceProtection  7043 non-null   object \n",
      " 12  TechSupport       7043 non-null   object \n",
      " 13  StreamingTV       7043 non-null   object \n",
      " 14  StreamingMovies   7043 non-null   object \n",
      " 15  Contract          7043 non-null   object \n",
      " 16  PaperlessBilling  7043 non-null   object \n",
      " 17  PaymentMethod     7043 non-null   object \n",
      " 18  MonthlyCharges    7043 non-null   float64\n",
      " 19  TotalCharges      7043 non-null   object \n",
      " 20  Churn             7043 non-null   object \n",
      "dtypes: float64(1), int64(2), object(18)\n",
      "memory usage: 1.1+ MB\n"
     ]
    }
   ],
   "source": [
    "df.info()"
   ]
  },
  {
   "cell_type": "markdown",
   "metadata": {},
   "source": [
    "### 2.3 Columns and Unique Values"
   ]
  },
  {
   "cell_type": "code",
   "execution_count": 167,
   "metadata": {},
   "outputs": [
    {
     "name": "stdout",
     "output_type": "stream",
     "text": [
      "customerID:         \t7590-VHVEG\t5575-GNVDE\t3668-QPYBK\t7795-CFOCW\t9237-HQITU\n",
      "gender:             \tFemale\tMale\n",
      "SeniorCitizen:      \t0\t1\n",
      "Partner:            \tYes\tNo\n",
      "Dependents:         \tNo\tYes\n",
      "tenure:             \t1\t34\t2\t45\t8\n",
      "PhoneService:       \tNo\tYes\n",
      "MultipleLines:      \tNo phone service\tNo\tYes\n",
      "InternetService:    \tDSL\tFiber optic\tNo\n",
      "OnlineSecurity:     \tNo\tYes\tNo internet service\n",
      "OnlineBackup:       \tYes\tNo\tNo internet service\n",
      "DeviceProtection:   \tNo\tYes\tNo internet service\n",
      "TechSupport:        \tNo\tYes\tNo internet service\n",
      "StreamingTV:        \tNo\tYes\tNo internet service\n",
      "StreamingMovies:    \tNo\tYes\tNo internet service\n",
      "Contract:           \tMonth-to-month\tOne year\tTwo year\n",
      "PaperlessBilling:   \tYes\tNo\n",
      "PaymentMethod:      \tElectronic check\tMailed check\tBank transfer (automatic)\tCredit card (automatic)\n",
      "MonthlyCharges:     \t29.85\t56.95\t53.85\t42.3\t70.7\n",
      "TotalCharges:       \t29.85\t1889.5\t108.15\t1840.75\t151.65\n",
      "Churn:              \tNo\tYes\n"
     ]
    }
   ],
   "source": [
    "for column in df.columns:\n",
    "    col_name = (column + \": \").ljust(20, \" \")\n",
    "    print(col_name, *df[column].unique()[0:5], sep=\"\\t\", end=\"\\n\")"
   ]
  },
  {
   "cell_type": "markdown",
   "metadata": {},
   "source": [
    "### 2.4 Class Balance of Predictor Variable "
   ]
  },
  {
   "cell_type": "code",
   "execution_count": null,
   "metadata": {},
   "outputs": [
    {
     "data": {
      "text/plain": [
       "Churn\n",
       "No     0.73463\n",
       "Yes    0.26537\n",
       "Name: proportion, dtype: float64"
      ]
     },
     "execution_count": 7,
     "metadata": {},
     "output_type": "execute_result"
    }
   ],
   "source": [
    "#filtered_data = df[df['StreamingMovies'] == 'No']\n",
    "#filtered_data['Churn'].value_counts() / len(filtered_data) *100\n",
    "df['Churn'].value_counts(normalize=True)"
   ]
  },
  {
   "cell_type": "markdown",
   "metadata": {},
   "source": [
    "## 3. Data Preprocessing"
   ]
  },
  {
   "cell_type": "markdown",
   "metadata": {},
   "source": [
    "### 3.1 Check for duplicate values"
   ]
  },
  {
   "cell_type": "code",
   "execution_count": null,
   "metadata": {},
   "outputs": [
    {
     "name": "stdout",
     "output_type": "stream",
     "text": [
      "number of duplicate rows:  0\n"
     ]
    }
   ],
   "source": [
    "duplicate_rows = df[df.duplicated()]\n",
    "print(\"number of duplicate rows: \", duplicate_rows.shape[0])"
   ]
  },
  {
   "cell_type": "markdown",
   "metadata": {},
   "source": [
    "### 3.2 Transformations"
   ]
  },
  {
   "cell_type": "markdown",
   "metadata": {},
   "source": [
    "#### Drop variables"
   ]
  },
  {
   "cell_type": "code",
   "execution_count": 202,
   "metadata": {},
   "outputs": [],
   "source": [
    "#Dropping customerID because it does not give any information\n",
    "df.drop('customerID', axis=1, inplace=True)\n",
    "\n",
    "#Maybe drop gender for ethical reasons\n",
    "#df.drop('gender', axis=1, inplace=True)\n"
   ]
  },
  {
   "cell_type": "markdown",
   "metadata": {},
   "source": [
    "#### Variable Encoding"
   ]
  },
  {
   "cell_type": "code",
   "execution_count": 203,
   "metadata": {},
   "outputs": [],
   "source": [
    "# Replace values for variables that have 'Yes' or 'No' values. Also replace gender with 0 or 1.\n",
    "#df['gender'].replace({'Female': 0, 'Male': 1}, inplace=True)\n",
    "df['Partner'].replace({'Yes': 1, 'No': 0}, inplace=True)\n",
    "df['Dependents'].replace({'No': 0, 'Yes': 1}, inplace=True)\n",
    "df['PhoneService'].replace({'No': 0, 'Yes': 1}, inplace=True)\n",
    "df['PaperlessBilling'].replace({'No': 0, 'Yes': 1}, inplace=True)\n",
    "df['Churn'].replace({'No': 0, 'Yes': 1}, inplace=True)\n",
    "\n",
    "#Combining internet services so that we have a binary variable for customers with internet service\n",
    "df['InternetService'].replace({'No': 0, 'DSL': 1, 'Fiber optic': 1}, inplace=True)\n",
    "\n",
    "# Values that depend on InternetService being Yes or No. If the customer does not have internet service, then it will also be No for these variables.\n",
    "df['OnlineSecurity'].replace({'No': 0, 'Yes': 1, 'No internet service': 0}, inplace=True)\n",
    "df['DeviceProtection'].replace({'No': 0, 'Yes': 1, 'No internet service': 0}, inplace=True)\n",
    "df['TechSupport'].replace({'No': 0, 'Yes': 1, 'No internet service': 0}, inplace=True)\n",
    "df['StreamingTV'].replace({'No': 0, 'Yes': 1, 'No internet service': 0}, inplace=True)\n",
    "df['StreamingMovies'].replace({'No': 0, 'Yes': 1, 'No internet service': 0}, inplace=True)\n",
    "df['OnlineBackup'].replace({'No': 0, 'Yes': 1, 'No internet service': 0}, inplace=True)\n",
    "\n",
    "# Same but for phone service\n",
    "df['MultipleLines'].replace({'No phone service': 0, 'No': 0, 'Yes': 1}, inplace=True)\n",
    "# One-hot encoding\n",
    "#df = pd.get_dummies(df, columns=['Contract'], prefix='Contract')\n",
    "\n",
    "#df = pd.get_dummies(df, columns=['InternetService'], prefix='InternetService', drop_first=True)"
   ]
  },
  {
   "cell_type": "markdown",
   "metadata": {},
   "source": [
    "#### Data Type Updates"
   ]
  },
  {
   "cell_type": "code",
   "execution_count": 204,
   "metadata": {},
   "outputs": [],
   "source": [
    "# Convert 'TotalCharges' to numeric, coerce errors to handle any non-convertible values\n",
    "df['TotalCharges'] = pd.to_numeric(df['TotalCharges'], errors='coerce')\n",
    "\n",
    "# Convert binary variables to boolean\n",
    "#binary_vars = [ 'gender', 'SeniorCitizen', 'Partner', 'Dependents', 'PhoneService', 'MultipleLines', 'InternetService', 'OnlineSecurity', 'OnlineBackup', 'DeviceProtection', 'TechSupport', 'StreamingTV', 'StreamingMovies',  'PaperlessBilling', 'Churn']\n",
    "binary_vars = [ 'SeniorCitizen', 'Partner', 'Dependents', 'PhoneService', 'MultipleLines', 'InternetService', 'OnlineSecurity', 'OnlineBackup', 'DeviceProtection', 'TechSupport', 'StreamingTV', 'StreamingMovies',  'PaperlessBilling', 'Churn']\n",
    "df[binary_vars] = df[binary_vars].astype(bool)\n"
   ]
  },
  {
   "cell_type": "markdown",
   "metadata": {},
   "source": [
    "#### Creating New Variables"
   ]
  },
  {
   "cell_type": "code",
   "execution_count": 205,
   "metadata": {},
   "outputs": [],
   "source": [
    "df['InternetServiceBundle'] = (df['OnlineSecurity'] + df['OnlineBackup'] + df['DeviceProtection'] + df['TechSupport'] + df['StreamingTV'] + df['StreamingMovies'])/6\n",
    "\n",
    "df['StreamingServices'] = df['StreamingTV'] | df['StreamingMovies']\n",
    "df.drop('StreamingTV', axis=1, inplace=True)\n",
    "df.drop('StreamingMovies', axis=1, inplace=True)\n",
    "\n",
    "df['PhoneInternetBundle'] = df['PhoneService'] & (df['InternetService'])\n",
    "\n",
    "def get_customer_type(row):\n",
    "    if row['PhoneInternetBundle'] == True:\n",
    "        return '3P'\n",
    "    elif row['PhoneService'] == True:\n",
    "        return '1P or MO'\n",
    "    elif row['InternetService'] == True:\n",
    "        return '2P or FO'\n",
    "    \n",
    "df['CustomerType'] = df.apply(lambda row: get_customer_type(row), axis=1)\n"
   ]
  },
  {
   "cell_type": "code",
   "execution_count": 158,
   "metadata": {},
   "outputs": [
    {
     "data": {
      "text/html": [
       "<div>\n",
       "<style scoped>\n",
       "    .dataframe tbody tr th:only-of-type {\n",
       "        vertical-align: middle;\n",
       "    }\n",
       "\n",
       "    .dataframe tbody tr th {\n",
       "        vertical-align: top;\n",
       "    }\n",
       "\n",
       "    .dataframe thead th {\n",
       "        text-align: right;\n",
       "    }\n",
       "</style>\n",
       "<table border=\"1\" class=\"dataframe\">\n",
       "  <thead>\n",
       "    <tr style=\"text-align: right;\">\n",
       "      <th></th>\n",
       "      <th>TotalCharges2</th>\n",
       "      <th>MonthlyCharges</th>\n",
       "      <th>tenure</th>\n",
       "      <th>TotalCharges</th>\n",
       "    </tr>\n",
       "  </thead>\n",
       "  <tbody>\n",
       "    <tr>\n",
       "      <th>0</th>\n",
       "      <td>0.00</td>\n",
       "      <td>29.85</td>\n",
       "      <td>1</td>\n",
       "      <td>29.85</td>\n",
       "    </tr>\n",
       "    <tr>\n",
       "      <th>1</th>\n",
       "      <td>46.80</td>\n",
       "      <td>56.95</td>\n",
       "      <td>34</td>\n",
       "      <td>1889.50</td>\n",
       "    </tr>\n",
       "    <tr>\n",
       "      <th>2</th>\n",
       "      <td>-0.45</td>\n",
       "      <td>53.85</td>\n",
       "      <td>2</td>\n",
       "      <td>108.15</td>\n",
       "    </tr>\n",
       "    <tr>\n",
       "      <th>3</th>\n",
       "      <td>62.75</td>\n",
       "      <td>42.30</td>\n",
       "      <td>45</td>\n",
       "      <td>1840.75</td>\n",
       "    </tr>\n",
       "    <tr>\n",
       "      <th>4</th>\n",
       "      <td>-10.25</td>\n",
       "      <td>70.70</td>\n",
       "      <td>2</td>\n",
       "      <td>151.65</td>\n",
       "    </tr>\n",
       "    <tr>\n",
       "      <th>5</th>\n",
       "      <td>-23.30</td>\n",
       "      <td>99.65</td>\n",
       "      <td>8</td>\n",
       "      <td>820.50</td>\n",
       "    </tr>\n",
       "    <tr>\n",
       "      <th>6</th>\n",
       "      <td>10.80</td>\n",
       "      <td>89.10</td>\n",
       "      <td>22</td>\n",
       "      <td>1949.40</td>\n",
       "    </tr>\n",
       "    <tr>\n",
       "      <th>7</th>\n",
       "      <td>-4.40</td>\n",
       "      <td>29.75</td>\n",
       "      <td>10</td>\n",
       "      <td>301.90</td>\n",
       "    </tr>\n",
       "    <tr>\n",
       "      <th>8</th>\n",
       "      <td>-111.65</td>\n",
       "      <td>104.80</td>\n",
       "      <td>28</td>\n",
       "      <td>3046.05</td>\n",
       "    </tr>\n",
       "    <tr>\n",
       "      <th>9</th>\n",
       "      <td>-6.65</td>\n",
       "      <td>56.15</td>\n",
       "      <td>62</td>\n",
       "      <td>3487.95</td>\n",
       "    </tr>\n",
       "  </tbody>\n",
       "</table>\n",
       "</div>"
      ],
      "text/plain": [
       "   TotalCharges2  MonthlyCharges  tenure  TotalCharges\n",
       "0           0.00           29.85       1         29.85\n",
       "1          46.80           56.95      34       1889.50\n",
       "2          -0.45           53.85       2        108.15\n",
       "3          62.75           42.30      45       1840.75\n",
       "4         -10.25           70.70       2        151.65\n",
       "5         -23.30           99.65       8        820.50\n",
       "6          10.80           89.10      22       1949.40\n",
       "7          -4.40           29.75      10        301.90\n",
       "8        -111.65          104.80      28       3046.05\n",
       "9          -6.65           56.15      62       3487.95"
      ]
     },
     "execution_count": 158,
     "metadata": {},
     "output_type": "execute_result"
    }
   ],
   "source": [
    "df['TotalCharges2'] = df['MonthlyCharges'] * (df['tenure']) -  df['TotalCharges']\n",
    "df[['TotalCharges2', 'MonthlyCharges', 'tenure', 'TotalCharges']].head(10)"
   ]
  },
  {
   "cell_type": "markdown",
   "metadata": {},
   "source": [
    "### 3.X Final Dataset Structure"
   ]
  },
  {
   "cell_type": "code",
   "execution_count": 186,
   "metadata": {},
   "outputs": [
    {
     "name": "stdout",
     "output_type": "stream",
     "text": [
      "<class 'pandas.core.frame.DataFrame'>\n",
      "RangeIndex: 7043 entries, 0 to 7042\n",
      "Data columns (total 22 columns):\n",
      " #   Column                 Non-Null Count  Dtype  \n",
      "---  ------                 --------------  -----  \n",
      " 0   gender                 7043 non-null   object \n",
      " 1   SeniorCitizen          7043 non-null   bool   \n",
      " 2   Partner                7043 non-null   bool   \n",
      " 3   Dependents             7043 non-null   bool   \n",
      " 4   tenure                 7043 non-null   int64  \n",
      " 5   PhoneService           7043 non-null   bool   \n",
      " 6   MultipleLines          7043 non-null   bool   \n",
      " 7   InternetService        7043 non-null   bool   \n",
      " 8   OnlineSecurity         7043 non-null   bool   \n",
      " 9   OnlineBackup           7043 non-null   bool   \n",
      " 10  DeviceProtection       7043 non-null   bool   \n",
      " 11  TechSupport            7043 non-null   bool   \n",
      " 12  Contract               7043 non-null   object \n",
      " 13  PaperlessBilling       7043 non-null   bool   \n",
      " 14  PaymentMethod          7043 non-null   object \n",
      " 15  MonthlyCharges         7043 non-null   float64\n",
      " 16  TotalCharges           7032 non-null   float64\n",
      " 17  Churn                  7043 non-null   bool   \n",
      " 18  InternetServiceBundle  7043 non-null   float64\n",
      " 19  StreamingServices      7043 non-null   bool   \n",
      " 20  PhoneInternetBundle    7043 non-null   bool   \n",
      " 21  CustomerType           7043 non-null   object \n",
      "dtypes: bool(14), float64(3), int64(1), object(4)\n",
      "memory usage: 536.6+ KB\n"
     ]
    }
   ],
   "source": [
    "df.info()"
   ]
  },
  {
   "cell_type": "markdown",
   "metadata": {},
   "source": [
    "## 4. Exploratory Data Analysis"
   ]
  },
  {
   "cell_type": "markdown",
   "metadata": {},
   "source": [
    "### Statistical Report"
   ]
  },
  {
   "cell_type": "code",
   "execution_count": 206,
   "metadata": {},
   "outputs": [
    {
     "name": "stderr",
     "output_type": "stream",
     "text": [
      "Summarize dataset: 100%|██████████| 40/40 [00:01<00:00, 28.26it/s, Completed]                              \n",
      "Generate report structure: 100%|██████████| 1/1 [00:02<00:00,  2.02s/it]\n",
      "Render HTML: 100%|██████████| 1/1 [00:00<00:00,  3.73it/s]\n",
      "Export report to file: 100%|██████████| 1/1 [00:00<00:00, 674.76it/s]\n"
     ]
    }
   ],
   "source": [
    "profile = ProfileReport(df)\n",
    "profile.to_file(\"churn.html\")"
   ]
  },
  {
   "cell_type": "markdown",
   "metadata": {},
   "source": [
    "### New Columns"
   ]
  },
  {
   "cell_type": "code",
   "execution_count": 187,
   "metadata": {},
   "outputs": [
    {
     "name": "stdout",
     "output_type": "stream",
     "text": [
      "gender:                  \tFemale\tMale\n",
      "SeniorCitizen:           \tFalse\tTrue\n",
      "Partner:                 \tTrue\tFalse\n",
      "Dependents:              \tFalse\tTrue\n",
      "tenure:                  \t1\t34\t2\t45\t8\n",
      "PhoneService:            \tFalse\tTrue\n",
      "MultipleLines:           \tFalse\tTrue\n",
      "InternetService:         \tTrue\tFalse\n",
      "OnlineSecurity:          \tFalse\tTrue\n",
      "OnlineBackup:            \tTrue\tFalse\n",
      "DeviceProtection:        \tFalse\tTrue\n",
      "TechSupport:             \tFalse\tTrue\n",
      "Contract:                \tMonth-to-month\tOne year\tTwo year\n",
      "PaperlessBilling:        \tTrue\tFalse\n",
      "PaymentMethod:           \tElectronic check\tMailed check\tBank transfer (automatic)\tCredit card (automatic)\n",
      "MonthlyCharges:          \t29.85\t56.95\t53.85\t42.3\t70.7\n",
      "TotalCharges:            \t29.85\t1889.5\t108.15\t1840.75\t151.65\n",
      "Churn:                   \tFalse\tTrue\n",
      "InternetServiceBundle:   \t0.16666666666666666\t0.0\n",
      "StreamingServices:       \tFalse\tTrue\n",
      "PhoneInternetBundle:     \tFalse\tTrue\n",
      "CustomerType:            \t2P or FO\t3P\t1P or MO\n"
     ]
    }
   ],
   "source": [
    "for column in df.columns:\n",
    "    col_name = (column + \": \").ljust(25, \" \")\n",
    "    print(col_name, *df[column].unique()[0:5], sep=\"\\t\", end=\"\\n\")"
   ]
  },
  {
   "cell_type": "code",
   "execution_count": 98,
   "metadata": {},
   "outputs": [],
   "source": [
    "\"\"\" for column in df.columns:\n",
    "    print(column) \"\"\"\n",
    "\n",
    "data_features = [\n",
    "    'SeniorCitizen',\n",
    "    'Partner',\n",
    "    'Dependents',\n",
    "    'tenure',\n",
    "    'PhoneService',\n",
    "    'MultipleLines',\n",
    "    'InternetService',\n",
    "    'OnlineSecurity',\n",
    "    'OnlineBackup',\n",
    "    'DeviceProtection',\n",
    "    'TechSupport',\n",
    "    'StreamingTV',\n",
    "    'StreamingMovies',\n",
    "    'PaperlessBilling',\n",
    "    'PaymentMethod',\n",
    "    'MonthlyCharges',\n",
    "    'TotalCharges',\n",
    "    'Churn',\n",
    "    'Contract_Month-to-month',\n",
    "    'Contract_One year',\n",
    "    'Contract_Two year',\n",
    "    'ServiceBundle',\n",
    "    'UsageIntensity',\n",
    "    'ServiceIntensity',\n",
    "    'ServiceAndUsageIntensity',\n",
    "    'StreamingServices',\n",
    "    'PhoneInternetBundle'\n",
    "]\n"
   ]
  },
  {
   "cell_type": "markdown",
   "metadata": {},
   "source": [
    "## Insight #1: Which features do not affect churn"
   ]
  },
  {
   "cell_type": "code",
   "execution_count": 180,
   "metadata": {},
   "outputs": [
    {
     "name": "stdout",
     "output_type": "stream",
     "text": [
      "False Churn\n",
      "SeniorCitizen: Yes -> 0.58 No -> 0.76\n",
      "Partner: Yes -> 0.80 No -> 0.67\n",
      "Dependents: Yes -> 0.85 No -> 0.69\n",
      "PhoneService: Yes -> 0.73 No -> 0.75\n",
      "MultipleLines: Yes -> 0.71 No -> 0.75\n",
      "InternetService: Yes -> 0.68 No -> 0.93\n",
      "OnlineSecurity: Yes -> 0.85 No -> 0.69\n",
      "OnlineBackup: Yes -> 0.78 No -> 0.71\n",
      "DeviceProtection: Yes -> 0.77 No -> 0.71\n",
      "TechSupport: Yes -> 0.85 No -> 0.69\n",
      "PaperlessBilling: Yes -> 0.66 No -> 0.84\n",
      "StreamingServices: Yes -> 0.70 No -> 0.77\n",
      "PhoneInternetBundle: Yes -> 0.67 No -> 0.87\n",
      "StreamingServices: Yes -> 0.70 No -> 0.77\n",
      "PhoneInternetBundle: Yes -> 0.67 No -> 0.87\n"
     ]
    }
   ],
   "source": [
    "\n",
    "binary_vars.extend(['StreamingServices', 'PhoneInternetBundle'])\n",
    "binary_vars.pop(binary_vars.index('StreamingMovies'))\n",
    "binary_vars.pop(binary_vars.index('StreamingTV'))\n",
    "print(\"False Churn\")\n",
    "for feature in binary_vars:\n",
    "    if feature == 'Churn':\n",
    "        continue\n",
    "    filtered_data = df[df[feature] == 1]\n",
    "    percentage_true = filtered_data['Churn'].value_counts(normalize=True)[0]\n",
    "    filtered_data = df[df[feature] == 0]\n",
    "    percentage_false = filtered_data['Churn'].value_counts(normalize=True)[0]\n",
    "    \n",
    "\n",
    "    print(f\"{feature}: Yes -> {percentage_true:.2f} No -> {percentage_false:.2f}\")\n"
   ]
  },
  {
   "cell_type": "code",
   "execution_count": 192,
   "metadata": {},
   "outputs": [
    {
     "data": {
      "text/plain": [
       "Churn\n",
       "False    0.583187\n",
       "True     0.416813\n",
       "Name: proportion, dtype: float64"
      ]
     },
     "execution_count": 192,
     "metadata": {},
     "output_type": "execute_result"
    }
   ],
   "source": [
    "filtered_data = df[df['SeniorCitizen'] == 1]\n",
    "filtered_data['Churn'].value_counts(normalize=True)"
   ]
  },
  {
   "cell_type": "code",
   "execution_count": 189,
   "metadata": {},
   "outputs": [
    {
     "name": "stdout",
     "output_type": "stream",
     "text": [
      "SeniorCitizen\n",
      "False    0.236062\n",
      "True     0.416813\n",
      "Name: Churn, dtype: float64\n"
     ]
    }
   ],
   "source": [
    "churn_rates = df.groupby('SeniorCitizen')['Churn'].mean()\n",
    "print(churn_rates)\n"
   ]
  },
  {
   "cell_type": "markdown",
   "metadata": {},
   "source": [
    "## Insight #2: Customer types"
   ]
  },
  {
   "cell_type": "code",
   "execution_count": 43,
   "metadata": {},
   "outputs": [
    {
     "data": {
      "image/png": "[encoded data removed]",
      "text/plain": [
       "<Figure size 1500x500 with 3 Axes>"
      ]
     },
     "metadata": {},
     "output_type": "display_data"
    }
   ],
   "source": [
    "# Assuming df is your DataFrame\n",
    "filtered_df = df[df['InternetService'] == 1]\n",
    "\n",
    "# Create subplots with 1 row and 3 columns\n",
    "fig, ax = plt.subplots(nrows=1, ncols=3, figsize=(15, 5))\n",
    "\n",
    "# Plot the first chart\n",
    "sns.countplot(x='StreamingTV', hue='Churn', data=filtered_df, ax=ax[0])\n",
    "ax[0].set_title('Churn Distribution by Streaming TV')\n",
    "\n",
    "# Plot the second chart\n",
    "sns.countplot(x='StreamingMovies', hue='Churn', data=filtered_df, ax=ax[1])\n",
    "ax[1].set_title('Churn Distribution by Streaming Movies')\n",
    "\n",
    "# Plot the third chart\n",
    "sns.countplot(x='StreamingServices', hue='Churn', data=filtered_df, ax=ax[2])\n",
    "ax[2].set_title('Churn Distribution by Streaming Services')\n",
    "\n",
    "# Adjust layout for better spacing\n",
    "plt.tight_layout()\n",
    "\n",
    "# Show the plots\n",
    "plt.show()\n",
    "\n"
   ]
  },
  {
   "cell_type": "code",
   "execution_count": 199,
   "metadata": {},
   "outputs": [
    {
     "data": {
      "image/png": "[encoded data removed]",
      "text/plain": [
       "<Figure size 640x480 with 1 Axes>"
      ]
     },
     "metadata": {},
     "output_type": "display_data"
    }
   ],
   "source": [
    "sns.countplot(x='CustomerType', hue='Churn', data=df)\n",
    "plt.title('Churn Distribution by Internet Service')\n",
    "plt.show()\n"
   ]
  },
  {
   "cell_type": "code",
   "execution_count": 197,
   "metadata": {},
   "outputs": [
    {
     "data": {
      "text/plain": [
       "Churn\n",
       "False    0.681711\n",
       "True     0.318289\n",
       "Name: proportion, dtype: float64"
      ]
     },
     "execution_count": 197,
     "metadata": {},
     "output_type": "execute_result"
    }
   ],
   "source": [
    "filtered_data = df[df['InternetService'] == 1]\n",
    "filtered_data['Churn'].value_counts(normalize=True)"
   ]
  },
  {
   "cell_type": "code",
   "execution_count": 198,
   "metadata": {},
   "outputs": [
    {
     "data": {
      "text/plain": [
       "Churn\n",
       "False    0.92595\n",
       "True     0.07405\n",
       "Name: proportion, dtype: float64"
      ]
     },
     "execution_count": 198,
     "metadata": {},
     "output_type": "execute_result"
    }
   ],
   "source": [
    "filtered_data = df[df['InternetService'] == 0]\n",
    "filtered_data['Churn'].value_counts(normalize=True)"
   ]
  },
  {
   "cell_type": "code",
   "execution_count": 200,
   "metadata": {},
   "outputs": [
    {
     "name": "stdout",
     "output_type": "stream",
     "text": [
      "Churn\n",
      "False    61.265124\n",
      "True     74.441332\n",
      "Name: MonthlyCharges, dtype: float64\n"
     ]
    },
    {
     "data": {
      "text/plain": [
       "<Axes: xlabel='Churn', ylabel='Monthly Charges'>"
      ]
     },
     "execution_count": 200,
     "metadata": {},
     "output_type": "execute_result"
    },
    {
     "data": {
      "image/png": "[encoded data removed]",
      "text/plain": [
       "<Figure size 640x480 with 1 Axes>"
      ]
     },
     "metadata": {},
     "output_type": "display_data"
    }
   ],
   "source": [
    "# Assume df is your DataFrame with 'Churn' and 'MonthlyCharges' columns\n",
    "churn_groups = df.groupby('Churn')['MonthlyCharges']\n",
    "\n",
    "# Calculate group means\n",
    "group_means = churn_groups.mean()\n",
    "\n",
    "# Print or plot the group means\n",
    "print(group_means)\n",
    "\n",
    "# Visualize the group means (optional)\n",
    "group_means.plot(kind='bar', ylabel='Monthly Charges')\n"
   ]
  },
  {
   "cell_type": "markdown",
   "metadata": {},
   "source": [
    "## Insight #3: Tenure and contract types"
   ]
  },
  {
   "cell_type": "code",
   "execution_count": 47,
   "metadata": {},
   "outputs": [
    {
     "data": {
      "image/png": "[encoded data removed]",
      "text/plain": [
       "<Figure size 640x480 with 1 Axes>"
      ]
     },
     "metadata": {},
     "output_type": "display_data"
    }
   ],
   "source": [
    "# Plot histogram for 'tenure'\n",
    "plt.hist(df['tenure'], bins=30, color='skyblue', edgecolor='black')\n",
    "plt.title('Distribution of Customer Tenure')\n",
    "plt.xlabel('Tenure (Months)')\n",
    "plt.ylabel('Frequency')\n",
    "plt.show()\n"
   ]
  },
  {
   "cell_type": "code",
   "execution_count": 150,
   "metadata": {},
   "outputs": [
    {
     "name": "stdout",
     "output_type": "stream",
     "text": [
      "Churn\n",
      "False    37.569965\n",
      "True     17.979133\n",
      "Name: tenure, dtype: float64\n"
     ]
    },
    {
     "data": {
      "text/plain": [
       "<Axes: xlabel='Churn', ylabel='Tenure (Months)'>"
      ]
     },
     "execution_count": 150,
     "metadata": {},
     "output_type": "execute_result"
    },
    {
     "data": {
      "image/png": "[encoded data removed]",
      "text/plain": [
       "<Figure size 640x480 with 1 Axes>"
      ]
     },
     "metadata": {},
     "output_type": "display_data"
    }
   ],
   "source": [
    "# Assume df is your DataFrame with 'Churn' and 'MonthlyCharges' columns\n",
    "churn_groups = df.groupby('Churn')['tenure']\n",
    "\n",
    "# Calculate group means\n",
    "group_means = churn_groups.mean()\n",
    "\n",
    "# Print or plot the group means\n",
    "print(group_means)\n",
    "\n",
    "# Visualize the group means (optional)\n",
    "group_means.plot(kind='bar', ylabel='Tenure (Months)')"
   ]
  },
  {
   "cell_type": "markdown",
   "metadata": {},
   "source": [
    "## Insight #4: XXXX"
   ]
  },
  {
   "cell_type": "markdown",
   "metadata": {},
   "source": [
    "## Insight #5: XXX"
   ]
  }
 ],
 "metadata": {
  "kernelspec": {
   "display_name": "venvtest",
   "language": "python",
   "name": "python3"
  },
  "language_info": {
   "codemirror_mode": {
    "name": "ipython",
    "version": 3
   },
   "file_extension": ".py",
   "mimetype": "text/x-python",
   "name": "python",
   "nbconvert_exporter": "python",
   "pygments_lexer": "ipython3",
   "version": "3.10.0"
  }
 },
 "nbformat": 4,
 "nbformat_minor": 2
}
