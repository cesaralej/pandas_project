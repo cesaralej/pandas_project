{
 "cells": [
  {
   "cell_type": "markdown",
   "metadata": {},
   "source": [
    "<table border=\"0\" style=\"width:100%\">\n",
    " <tr>\n",
    "    <td>\n",
    "        <img src=\"https://static-frm.ie.edu/university/wp-content/uploads/sites/6/2022/06/IE-University-logo.png\" width=150>\n",
    "     </td>\n",
    "    <td><div style=\"font-family:'Courier New'\">\n",
    "            <div style=\"font-size:25px\">\n",
    "                <div style=\"text-align: right\"> \n",
    "                    <b> MASTER IN BIG DATA</b>\n",
    "                    <br>\n",
    "                    Python for Data Analysis I\n",
    "                    <br><br>\n",
    "                    <em> Daniel Sierra Ramos </em>\n",
    "                </div>\n",
    "            </div>\n",
    "        </div>\n",
    "    </td>\n",
    " </tr>\n",
    "</table>"
   ]
  },
  {
   "cell_type": "markdown",
   "metadata": {},
   "source": [
    "# CHAPTER II: Insights\n",
    "\n",
    "In this chapter, we will work with the *Churn* dataset. This data contains information about the customers of a telecommunications company. It contains typical info a company have about its customers and also a binary column called \"churn\" that stores information about if the customer churned or not. _In order to prevent churn, the CIO of this company is very interested in knowing how the information they have about their customers is related to the churn action_.\n",
    "\n",
    "Open-ended question. Maximum points for the usage of Pandas, conversion to JSON also allowed, exploration of several methods encouraged. More complex and innovative approaches get a higher grade.\n",
    "\n",
    "You can enrich your analysis with Pandas methods and techniques not seen in class, but libraries other than Pandas are not allowed for data manipulation.\n",
    "\n",
    "All the insights should be supported with graphs built with any of the plotting libraries seen in class or others. Feel free to innovate in this part in order to clearly show the value of your insights.\n",
    "\n",
    "**Submission format:** One Jupyter notebook (`GroupX_Assignment2_C2.ipynb`).\n",
    "\n",
    "**Grading criteria** are:\n",
    "\n",
    "- Code contains the 5 insights (40 %)\n",
    "- Code has no errors, uses meaningful and explanatory variable names, and is clean and concise (10 %).\n",
    "- Quality of the insights. Notebook cleanliness. No commented code that is not working. Markdown annotations are encouraged. The result should be apt for the CIO's technical team. (50 %)\n",
    "\n",
    "## Question 6\n",
    "\n",
    "**Present at least 5 insights** about the dataset. You can relate 2, 3, or whatever number of variables to describe something exciting about data. The more complex and interesting the insight, the more grades.\n",
    "\n",
    "Paste a summary below (one sentence per insight), and include the entire code, explanations, and discussion in the original notebook."
   ]
  },
  {
   "cell_type": "markdown",
   "metadata": {},
   "source": [
    "## Table of Content"
   ]
  },
  {
   "cell_type": "markdown",
   "metadata": {},
   "source": [
    "1. [Imports](#imports)\n",
    "    1. Libraries\n",
    "    1. Load the Dataset\n",
    "1. [Data Overview](#data-overview)\n",
    "1. [Data Preprocessing (Cleaning)](#data-cleaning)\n",
    "    1. Missing Values\n",
    "    1. Data Types\n",
    "1. Exploratory Data Analysis"
   ]
  },
  {
   "cell_type": "markdown",
   "metadata": {},
   "source": [
    "## 1. Imports"
   ]
  },
  {
   "cell_type": "markdown",
   "metadata": {},
   "source": [
    "### 1.1 Libraries"
   ]
  },
  {
   "cell_type": "code",
   "execution_count": 83,
   "metadata": {},
   "outputs": [
    {
     "name": "stderr",
     "output_type": "stream",
     "text": [
      "/Users/cesargarcia/Desktop/Python for Data Analysis/venvtest/lib/python3.10/site-packages/tqdm/auto.py:21: TqdmWarning: IProgress not found. Please update jupyter and ipywidgets. See https://ipywidgets.readthedocs.io/en/stable/user_install.html\n",
      "  from .autonotebook import tqdm as notebook_tqdm\n"
     ]
    }
   ],
   "source": [
    "import pandas as pd\n",
    "import numpy as np\n",
    "import matplotlib.pyplot as plt\n",
    "import seaborn as sns\n",
    "from ydata_profiling import ProfileReport"
   ]
  },
  {
   "cell_type": "markdown",
   "metadata": {},
   "source": [
    "### 1.2 Loading the Dataset"
   ]
  },
  {
   "cell_type": "code",
   "execution_count": 98,
   "metadata": {},
   "outputs": [],
   "source": [
    "filepath = \"data/churn.csv\"\n",
    "df = pd.read_csv(filepath)"
   ]
  },
  {
   "cell_type": "markdown",
   "metadata": {},
   "source": [
    "## 2. Data Overview <a name=\"data-overview\"></a>"
   ]
  },
  {
   "cell_type": "markdown",
   "metadata": {},
   "source": [
    "In this section, we provide an overview of the dataset by displaying the first few rows, examining the data types, and exploring each column along with a sample of their unique values. This exploration aims to give us a sense of the available information and helps us plan the necessary steps for analysis.\n",
    "\n",
    "In this project our aim is to know information about customer churn action, so as a last step we take a look at the class distribution of the predictor variable `Churn` in the database. There is no significant class inbalance."
   ]
  },
  {
   "cell_type": "markdown",
   "metadata": {},
   "source": [
    "### 2.1 Head"
   ]
  },
  {
   "cell_type": "code",
   "execution_count": 59,
   "metadata": {},
   "outputs": [
    {
     "data": {
      "text/html": [
       "<div>\n",
       "<style scoped>\n",
       "    .dataframe tbody tr th:only-of-type {\n",
       "        vertical-align: middle;\n",
       "    }\n",
       "\n",
       "    .dataframe tbody tr th {\n",
       "        vertical-align: top;\n",
       "    }\n",
       "\n",
       "    .dataframe thead th {\n",
       "        text-align: right;\n",
       "    }\n",
       "</style>\n",
       "<table border=\"1\" class=\"dataframe\">\n",
       "  <thead>\n",
       "    <tr style=\"text-align: right;\">\n",
       "      <th></th>\n",
       "      <th>customerID</th>\n",
       "      <th>gender</th>\n",
       "      <th>SeniorCitizen</th>\n",
       "      <th>Partner</th>\n",
       "      <th>Dependents</th>\n",
       "      <th>tenure</th>\n",
       "      <th>PhoneService</th>\n",
       "      <th>MultipleLines</th>\n",
       "      <th>InternetService</th>\n",
       "      <th>OnlineSecurity</th>\n",
       "      <th>...</th>\n",
       "      <th>DeviceProtection</th>\n",
       "      <th>TechSupport</th>\n",
       "      <th>StreamingTV</th>\n",
       "      <th>StreamingMovies</th>\n",
       "      <th>Contract</th>\n",
       "      <th>PaperlessBilling</th>\n",
       "      <th>PaymentMethod</th>\n",
       "      <th>MonthlyCharges</th>\n",
       "      <th>TotalCharges</th>\n",
       "      <th>Churn</th>\n",
       "    </tr>\n",
       "  </thead>\n",
       "  <tbody>\n",
       "    <tr>\n",
       "      <th>0</th>\n",
       "      <td>7590-VHVEG</td>\n",
       "      <td>Female</td>\n",
       "      <td>0</td>\n",
       "      <td>Yes</td>\n",
       "      <td>No</td>\n",
       "      <td>1</td>\n",
       "      <td>No</td>\n",
       "      <td>No phone service</td>\n",
       "      <td>DSL</td>\n",
       "      <td>No</td>\n",
       "      <td>...</td>\n",
       "      <td>No</td>\n",
       "      <td>No</td>\n",
       "      <td>No</td>\n",
       "      <td>No</td>\n",
       "      <td>Month-to-month</td>\n",
       "      <td>Yes</td>\n",
       "      <td>Electronic check</td>\n",
       "      <td>29.85</td>\n",
       "      <td>29.85</td>\n",
       "      <td>No</td>\n",
       "    </tr>\n",
       "    <tr>\n",
       "      <th>1</th>\n",
       "      <td>5575-GNVDE</td>\n",
       "      <td>Male</td>\n",
       "      <td>0</td>\n",
       "      <td>No</td>\n",
       "      <td>No</td>\n",
       "      <td>34</td>\n",
       "      <td>Yes</td>\n",
       "      <td>No</td>\n",
       "      <td>DSL</td>\n",
       "      <td>Yes</td>\n",
       "      <td>...</td>\n",
       "      <td>Yes</td>\n",
       "      <td>No</td>\n",
       "      <td>No</td>\n",
       "      <td>No</td>\n",
       "      <td>One year</td>\n",
       "      <td>No</td>\n",
       "      <td>Mailed check</td>\n",
       "      <td>56.95</td>\n",
       "      <td>1889.5</td>\n",
       "      <td>No</td>\n",
       "    </tr>\n",
       "    <tr>\n",
       "      <th>2</th>\n",
       "      <td>3668-QPYBK</td>\n",
       "      <td>Male</td>\n",
       "      <td>0</td>\n",
       "      <td>No</td>\n",
       "      <td>No</td>\n",
       "      <td>2</td>\n",
       "      <td>Yes</td>\n",
       "      <td>No</td>\n",
       "      <td>DSL</td>\n",
       "      <td>Yes</td>\n",
       "      <td>...</td>\n",
       "      <td>No</td>\n",
       "      <td>No</td>\n",
       "      <td>No</td>\n",
       "      <td>No</td>\n",
       "      <td>Month-to-month</td>\n",
       "      <td>Yes</td>\n",
       "      <td>Mailed check</td>\n",
       "      <td>53.85</td>\n",
       "      <td>108.15</td>\n",
       "      <td>Yes</td>\n",
       "    </tr>\n",
       "    <tr>\n",
       "      <th>3</th>\n",
       "      <td>7795-CFOCW</td>\n",
       "      <td>Male</td>\n",
       "      <td>0</td>\n",
       "      <td>No</td>\n",
       "      <td>No</td>\n",
       "      <td>45</td>\n",
       "      <td>No</td>\n",
       "      <td>No phone service</td>\n",
       "      <td>DSL</td>\n",
       "      <td>Yes</td>\n",
       "      <td>...</td>\n",
       "      <td>Yes</td>\n",
       "      <td>Yes</td>\n",
       "      <td>No</td>\n",
       "      <td>No</td>\n",
       "      <td>One year</td>\n",
       "      <td>No</td>\n",
       "      <td>Bank transfer (automatic)</td>\n",
       "      <td>42.30</td>\n",
       "      <td>1840.75</td>\n",
       "      <td>No</td>\n",
       "    </tr>\n",
       "    <tr>\n",
       "      <th>4</th>\n",
       "      <td>9237-HQITU</td>\n",
       "      <td>Female</td>\n",
       "      <td>0</td>\n",
       "      <td>No</td>\n",
       "      <td>No</td>\n",
       "      <td>2</td>\n",
       "      <td>Yes</td>\n",
       "      <td>No</td>\n",
       "      <td>Fiber optic</td>\n",
       "      <td>No</td>\n",
       "      <td>...</td>\n",
       "      <td>No</td>\n",
       "      <td>No</td>\n",
       "      <td>No</td>\n",
       "      <td>No</td>\n",
       "      <td>Month-to-month</td>\n",
       "      <td>Yes</td>\n",
       "      <td>Electronic check</td>\n",
       "      <td>70.70</td>\n",
       "      <td>151.65</td>\n",
       "      <td>Yes</td>\n",
       "    </tr>\n",
       "  </tbody>\n",
       "</table>\n",
       "<p>5 rows × 21 columns</p>\n",
       "</div>"
      ],
      "text/plain": [
       "   customerID  gender  SeniorCitizen Partner Dependents  tenure PhoneService  \\\n",
       "0  7590-VHVEG  Female              0     Yes         No       1           No   \n",
       "1  5575-GNVDE    Male              0      No         No      34          Yes   \n",
       "2  3668-QPYBK    Male              0      No         No       2          Yes   \n",
       "3  7795-CFOCW    Male              0      No         No      45           No   \n",
       "4  9237-HQITU  Female              0      No         No       2          Yes   \n",
       "\n",
       "      MultipleLines InternetService OnlineSecurity  ... DeviceProtection  \\\n",
       "0  No phone service             DSL             No  ...               No   \n",
       "1                No             DSL            Yes  ...              Yes   \n",
       "2                No             DSL            Yes  ...               No   \n",
       "3  No phone service             DSL            Yes  ...              Yes   \n",
       "4                No     Fiber optic             No  ...               No   \n",
       "\n",
       "  TechSupport StreamingTV StreamingMovies        Contract PaperlessBilling  \\\n",
       "0          No          No              No  Month-to-month              Yes   \n",
       "1          No          No              No        One year               No   \n",
       "2          No          No              No  Month-to-month              Yes   \n",
       "3         Yes          No              No        One year               No   \n",
       "4          No          No              No  Month-to-month              Yes   \n",
       "\n",
       "               PaymentMethod MonthlyCharges  TotalCharges Churn  \n",
       "0           Electronic check          29.85         29.85    No  \n",
       "1               Mailed check          56.95        1889.5    No  \n",
       "2               Mailed check          53.85        108.15   Yes  \n",
       "3  Bank transfer (automatic)          42.30       1840.75    No  \n",
       "4           Electronic check          70.70        151.65   Yes  \n",
       "\n",
       "[5 rows x 21 columns]"
      ]
     },
     "execution_count": 59,
     "metadata": {},
     "output_type": "execute_result"
    }
   ],
   "source": [
    "data.head()"
   ]
  },
  {
   "cell_type": "markdown",
   "metadata": {},
   "source": [
    "### 2.2 Data Types and Missing Values"
   ]
  },
  {
   "cell_type": "code",
   "execution_count": 20,
   "metadata": {},
   "outputs": [
    {
     "name": "stdout",
     "output_type": "stream",
     "text": [
      "<class 'pandas.core.frame.DataFrame'>\n",
      "RangeIndex: 7043 entries, 0 to 7042\n",
      "Data columns (total 21 columns):\n",
      " #   Column            Non-Null Count  Dtype  \n",
      "---  ------            --------------  -----  \n",
      " 0   customerID        7043 non-null   object \n",
      " 1   gender            7043 non-null   object \n",
      " 2   SeniorCitizen     7043 non-null   int64  \n",
      " 3   Partner           7043 non-null   object \n",
      " 4   Dependents        7043 non-null   object \n",
      " 5   tenure            7043 non-null   int64  \n",
      " 6   PhoneService      7043 non-null   object \n",
      " 7   MultipleLines     7043 non-null   object \n",
      " 8   InternetService   7043 non-null   object \n",
      " 9   OnlineSecurity    7043 non-null   object \n",
      " 10  OnlineBackup      7043 non-null   object \n",
      " 11  DeviceProtection  7043 non-null   object \n",
      " 12  TechSupport       7043 non-null   object \n",
      " 13  StreamingTV       7043 non-null   object \n",
      " 14  StreamingMovies   7043 non-null   object \n",
      " 15  Contract          7043 non-null   object \n",
      " 16  PaperlessBilling  7043 non-null   object \n",
      " 17  PaymentMethod     7043 non-null   object \n",
      " 18  MonthlyCharges    7043 non-null   float64\n",
      " 19  TotalCharges      7043 non-null   object \n",
      " 20  Churn             7043 non-null   object \n",
      "dtypes: float64(1), int64(2), object(18)\n",
      "memory usage: 1.1+ MB\n"
     ]
    }
   ],
   "source": [
    "df.info()"
   ]
  },
  {
   "cell_type": "markdown",
   "metadata": {},
   "source": [
    "### 2.3 Columns and Unique Values"
   ]
  },
  {
   "cell_type": "code",
   "execution_count": 58,
   "metadata": {},
   "outputs": [
    {
     "name": "stdout",
     "output_type": "stream",
     "text": [
      "customerID:         \t7590-VHVEG\t5575-GNVDE\t3668-QPYBK\t7795-CFOCW\t9237-HQITU\n",
      "gender:             \tFemale\tMale\n",
      "SeniorCitizen:      \t0\t1\n",
      "Partner:            \tYes\tNo\n",
      "Dependents:         \tNo\tYes\n",
      "tenure:             \t1\t34\t2\t45\t8\n",
      "PhoneService:       \tNo\tYes\n",
      "MultipleLines:      \tNo phone service\tNo\tYes\n",
      "InternetService:    \tDSL\tFiber optic\tNo\n",
      "OnlineSecurity:     \tNo\tYes\tNo internet service\n",
      "OnlineBackup:       \tYes\tNo\tNo internet service\n",
      "DeviceProtection:   \tNo\tYes\tNo internet service\n",
      "TechSupport:        \tNo\tYes\tNo internet service\n",
      "StreamingTV:        \tNo\tYes\tNo internet service\n",
      "StreamingMovies:    \tNo\tYes\tNo internet service\n",
      "Contract:           \tMonth-to-month\tOne year\tTwo year\n",
      "PaperlessBilling:   \tYes\tNo\n",
      "PaymentMethod:      \tElectronic check\tMailed check\tBank transfer (automatic)\tCredit card (automatic)\n",
      "MonthlyCharges:     \t29.85\t56.95\t53.85\t42.3\t70.7\n",
      "TotalCharges:       \t29.85\t1889.5\t108.15\t1840.75\t151.65\n",
      "Churn:              \tNo\tYes\n"
     ]
    }
   ],
   "source": [
    "for column in df.columns:\n",
    "    col_name = (column + \": \").ljust(20, \" \")\n",
    "    print(col_name, *df[column].unique()[0:5], sep=\"\\t\", end=\"\\n\")"
   ]
  },
  {
   "cell_type": "markdown",
   "metadata": {},
   "source": [
    "### 2.4 Class Balance of Predictor Variable "
   ]
  },
  {
   "cell_type": "code",
   "execution_count": 24,
   "metadata": {},
   "outputs": [
    {
     "data": {
      "text/plain": [
       "Churn\n",
       "No     73.463013\n",
       "Yes    26.536987\n",
       "Name: count, dtype: float64"
      ]
     },
     "execution_count": 24,
     "metadata": {},
     "output_type": "execute_result"
    }
   ],
   "source": [
    "#filtered_data = df[df['StreamingMovies'] == 'No']\n",
    "#filtered_data['Churn'].value_counts() / len(filtered_data) *100\n",
    "df['Churn'].value_counts() / len(df) *100"
   ]
  },
  {
   "cell_type": "markdown",
   "metadata": {},
   "source": [
    "## 3. Data Preprocessing"
   ]
  },
  {
   "cell_type": "markdown",
   "metadata": {},
   "source": [
    "### 3.1 Check for duplicate values"
   ]
  },
  {
   "cell_type": "code",
   "execution_count": 100,
   "metadata": {},
   "outputs": [
    {
     "name": "stdout",
     "output_type": "stream",
     "text": [
      "number of duplicate rows:  (0, 21)\n"
     ]
    }
   ],
   "source": [
    "duplicate_rows = df[df.duplicated()]\n",
    "print(\"number of duplicate rows: \", duplicate_rows.shape)"
   ]
  },
  {
   "cell_type": "markdown",
   "metadata": {},
   "source": [
    "### 3.2 Transformations"
   ]
  },
  {
   "cell_type": "markdown",
   "metadata": {},
   "source": [
    "Drop variables that do not provide any meaningful information for predicting churn"
   ]
  },
  {
   "cell_type": "code",
   "execution_count": 89,
   "metadata": {},
   "outputs": [],
   "source": [
    "#Dropping customerID because it does not give any information\n",
    "df.drop('customerID', axis=1, inplace=True)\n",
    "\n",
    "#Maybe drop gender for ethical reasons\n",
    "#df.drop('gender', axis=1, inplace=True)\n"
   ]
  },
  {
   "cell_type": "markdown",
   "metadata": {},
   "source": [
    "#### Variable Encoding"
   ]
  },
  {
   "cell_type": "code",
   "execution_count": 90,
   "metadata": {},
   "outputs": [],
   "source": [
    "# Replace values for variables that have 'Yes' or 'No' values. Also replace gender with 0 or 1.\n",
    "df['gender'].replace({'Female': 0, 'Male': 1}, inplace=True)\n",
    "df['Partner'].replace({'Yes': 1, 'No': 0}, inplace=True)\n",
    "df['Dependents'].replace({'No': 0, 'Yes': 1}, inplace=True)\n",
    "df['PhoneService'].replace({'No': 0, 'Yes': 1}, inplace=True)\n",
    "df['PaperlessBilling'].replace({'No': 0, 'Yes': 1}, inplace=True)\n",
    "df['Churn'].replace({'No': 0, 'Yes': 1}, inplace=True)\n",
    "\n",
    "#Combining internet services so that we have a binary variable for customers with internet service\n",
    "df['InternetService'].replace({'No': 0, 'DSL': 1, 'Fiber optic': 1}, inplace=True)\n",
    "\n",
    "# Values that depend on InternetService being Yes or No. If the customer does not have internet service, then it will also be No for these variables.\n",
    "df['OnlineSecurity'].replace({'No': 0, 'Yes': 1, 'No internet service': 0}, inplace=True)\n",
    "df['DeviceProtection'].replace({'No': 0, 'Yes': 1, 'No internet service': 0}, inplace=True)\n",
    "df['TechSupport'].replace({'No': 0, 'Yes': 1, 'No internet service': 0}, inplace=True)\n",
    "df['StreamingTV'].replace({'No': 0, 'Yes': 1, 'No internet service': 0}, inplace=True)\n",
    "df['StreamingMovies'].replace({'No': 0, 'Yes': 1, 'No internet service': 0}, inplace=True)\n",
    "df['OnlineBackup'].replace({'No': 0, 'Yes': 1, 'No internet service': 0}, inplace=True)\n",
    "\n",
    "# Same but for phone service\n",
    "df['MultipleLines'].replace({'No phone service': 0, 'No': 0, 'Yes': 1}, inplace=True)\n",
    "\n",
    "#df['Contract'].replace({'Month-to-month': 0, 'One year': 1, 'Two year': 2}, inplace=True)\n",
    "\n",
    "# One-hot encode 'InternetService'\n",
    "#df = pd.get_dummies(df, columns=['InternetService'], prefix='InternetService', drop_first=True)"
   ]
  },
  {
   "cell_type": "markdown",
   "metadata": {},
   "source": [
    "#### Data Type Updates"
   ]
  },
  {
   "cell_type": "code",
   "execution_count": 91,
   "metadata": {},
   "outputs": [],
   "source": [
    "# Convert 'TotalCharges' to numeric, coerce errors to handle any non-convertible values\n",
    "df['TotalCharges'] = pd.to_numeric(df['TotalCharges'], errors='coerce')\n",
    "\n",
    "# Convert binary variables to boolean\n",
    "binary_vars = [ 'gender', 'SeniorCitizen', 'Partner', 'Dependents', 'PhoneService', 'MultipleLines', 'InternetService', 'OnlineSecurity', 'DeviceProtection', 'TechSupport', 'StreamingTV', 'StreamingMovies',  'PaperlessBilling', 'Churn']\n",
    "df[binary_vars] = df[binary_vars].astype(bool)\n"
   ]
  },
  {
   "cell_type": "markdown",
   "metadata": {},
   "source": [
    "Creating New Variables"
   ]
  },
  {
   "cell_type": "code",
   "execution_count": 95,
   "metadata": {},
   "outputs": [],
   "source": [
    "df['ServiceBundle'] = df['OnlineSecurity'] + df['OnlineBackup'] + df['DeviceProtection'] + df['TechSupport'] + df['StreamingTV'] + df['StreamingMovies']\n",
    "df['UsageIntensity'] = df['MonthlyCharges'] / (df['TotalCharges'] + 1)  # Adding 1 to avoid division by zero\n",
    "df['Contract_Paperless'] = df['Contract'] * df['PaperlessBilling']\n",
    "df['StreamingServices'] = df['StreamingTV'] | df['StreamingMovies']\n",
    "df['PhoneInternetBundle'] = df['PhoneService'] & (df['InternetService'])\n"
   ]
  },
  {
   "cell_type": "markdown",
   "metadata": {},
   "source": [
    "### 3.X Final Dataset Structure"
   ]
  },
  {
   "cell_type": "code",
   "execution_count": 93,
   "metadata": {},
   "outputs": [
    {
     "name": "stdout",
     "output_type": "stream",
     "text": [
      "<class 'pandas.core.frame.DataFrame'>\n",
      "RangeIndex: 7043 entries, 0 to 7042\n",
      "Data columns (total 25 columns):\n",
      " #   Column               Non-Null Count  Dtype  \n",
      "---  ------               --------------  -----  \n",
      " 0   gender               7043 non-null   bool   \n",
      " 1   SeniorCitizen        7043 non-null   bool   \n",
      " 2   Partner              7043 non-null   bool   \n",
      " 3   Dependents           7043 non-null   bool   \n",
      " 4   tenure               7043 non-null   int64  \n",
      " 5   PhoneService         7043 non-null   bool   \n",
      " 6   MultipleLines        7043 non-null   bool   \n",
      " 7   InternetService      7043 non-null   bool   \n",
      " 8   OnlineSecurity       7043 non-null   bool   \n",
      " 9   OnlineBackup         7043 non-null   int64  \n",
      " 10  DeviceProtection     7043 non-null   bool   \n",
      " 11  TechSupport          7043 non-null   bool   \n",
      " 12  StreamingTV          7043 non-null   bool   \n",
      " 13  StreamingMovies      7043 non-null   bool   \n",
      " 14  Contract             7043 non-null   object \n",
      " 15  PaperlessBilling     7043 non-null   bool   \n",
      " 16  PaymentMethod        7043 non-null   object \n",
      " 17  MonthlyCharges       7043 non-null   float64\n",
      " 18  TotalCharges         7032 non-null   float64\n",
      " 19  Churn                7043 non-null   bool   \n",
      " 20  ServiceBundle        7043 non-null   int64  \n",
      " 21  UsageIntensity       7032 non-null   float64\n",
      " 22  Contract_Paperless   7043 non-null   object \n",
      " 23  StreamingServices    7043 non-null   bool   \n",
      " 24  PhoneInternetBundle  7043 non-null   bool   \n",
      "dtypes: bool(16), float64(3), int64(3), object(3)\n",
      "memory usage: 605.4+ KB\n"
     ]
    }
   ],
   "source": [
    "df.info()"
   ]
  },
  {
   "cell_type": "markdown",
   "metadata": {},
   "source": [
    "## 4. Exploratory Data Analysis"
   ]
  },
  {
   "cell_type": "markdown",
   "metadata": {},
   "source": [
    "### Statistical Report"
   ]
  },
  {
   "cell_type": "code",
   "execution_count": 96,
   "metadata": {},
   "outputs": [
    {
     "name": "stderr",
     "output_type": "stream",
     "text": [
      "Summarize dataset: 100%|██████████| 60/60 [00:02<00:00, 23.68it/s, Completed]                             \n",
      "Generate report structure: 100%|██████████| 1/1 [00:02<00:00,  2.35s/it]\n",
      "Render HTML: 100%|██████████| 1/1 [00:00<00:00,  2.27it/s]\n",
      "Export report to file: 100%|██████████| 1/1 [00:00<00:00, 204.92it/s]\n"
     ]
    }
   ],
   "source": [
    "profile = ProfileReport(df)\n",
    "profile.to_file(\"churn.html\")"
   ]
  },
  {
   "cell_type": "markdown",
   "metadata": {},
   "source": [
    "### Other Stats"
   ]
  },
  {
   "cell_type": "code",
   "execution_count": 97,
   "metadata": {},
   "outputs": [
    {
     "name": "stdout",
     "output_type": "stream",
     "text": [
      "Churn\n",
      "False    61.265124\n",
      "True     74.441332\n",
      "Name: MonthlyCharges, dtype: float64\n"
     ]
    },
    {
     "data": {
      "text/plain": [
       "<Axes: xlabel='Churn', ylabel='Monthly Charges'>"
      ]
     },
     "execution_count": 97,
     "metadata": {},
     "output_type": "execute_result"
    },
    {
     "data": {
      "image/png": "[encoded data removed]",
      "text/plain": [
       "<Figure size 640x480 with 1 Axes>"
      ]
     },
     "metadata": {},
     "output_type": "display_data"
    }
   ],
   "source": [
    "# Assume df is your DataFrame with 'Churn' and 'MonthlyCharges' columns\n",
    "churn_groups = df.groupby('Churn')['MonthlyCharges']\n",
    "\n",
    "# Calculate group means\n",
    "group_means = churn_groups.mean()\n",
    "\n",
    "# Print or plot the group means\n",
    "print(group_means)\n",
    "\n",
    "# Visualize the group means (optional)\n",
    "group_means.plot(kind='bar', ylabel='Monthly Charges')\n"
   ]
  }
 ],
 "metadata": {
  "kernelspec": {
   "display_name": "venvtest",
   "language": "python",
   "name": "python3"
  },
  "language_info": {
   "codemirror_mode": {
    "name": "ipython",
    "version": 3
   },
   "file_extension": ".py",
   "mimetype": "text/x-python",
   "name": "python",
   "nbconvert_exporter": "python",
   "pygments_lexer": "ipython3",
   "version": "3.10.0"
  }
 },
 "nbformat": 4,
 "nbformat_minor": 2
}
