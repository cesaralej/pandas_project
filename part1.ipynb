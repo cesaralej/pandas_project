{
 "cells": [
  {
   "cell_type": "markdown",
   "metadata": {},
   "source": [
    "# Part 1: Data Transformation with Pandas\n",
    "Compute some transformations over the customers.csv dataset. Then, upload the resulting DataFrame and the Notebook in the proper format.\n",
    "\n",
    "Submission format (CSV):\n",
    "- Filename: GroupX_Assignment2_C1_Part1.csv\n",
    "- Extension: CSV, separated by commas.\n",
    "- Comment: The DataFrame must be stored without the index.\n",
    "\n",
    "Submission format (Notebook):\n",
    "- Filename: GroupX_Assignment2_C1_Part1.ipynb\n",
    "- Extension: IPYNB\n",
    "\n",
    "Grading criteria\n",
    "- 100% - The submitted CSV file is identical to the solution CSV\n",
    "- 50% - Just two of the transformed columns are identical to those in the solution CSV\n",
    "- 25% - Just one of the transformed columns are identical to that in the solution CSV\n",
    "- 0% - None of the transformed columns match the solution CSV\n",
    "*NOTE: All submissions made in other formats than the presented here will score 0*\n"
   ]
  },
  {
   "cell_type": "code",
   "execution_count": null,
   "metadata": {},
   "outputs": [],
   "source": []
  },
  {
   "cell_type": "code",
   "execution_count": null,
   "metadata": {},
   "outputs": [],
   "source": []
  }
 ],
 "metadata": {
  "language_info": {
   "name": "python"
  }
 },
 "nbformat": 4,
 "nbformat_minor": 2
}
